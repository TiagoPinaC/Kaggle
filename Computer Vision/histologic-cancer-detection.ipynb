{
 "cells": [
  {
   "cell_type": "code",
   "execution_count": 1,
   "id": "cbf08e97",
   "metadata": {
    "execution": {
     "iopub.execute_input": "2024-04-30T14:21:08.128552Z",
     "iopub.status.busy": "2024-04-30T14:21:08.128253Z",
     "iopub.status.idle": "2024-04-30T14:21:22.252726Z",
     "shell.execute_reply": "2024-04-30T14:21:22.251785Z"
    },
    "papermill": {
     "duration": 14.142629,
     "end_time": "2024-04-30T14:21:22.255203",
     "exception": false,
     "start_time": "2024-04-30T14:21:08.112574",
     "status": "completed"
    },
    "tags": []
   },
   "outputs": [
    {
     "name": "stdout",
     "output_type": "stream",
     "text": [
      "Collecting torcheval\r\n",
      "  Downloading torcheval-0.0.7-py3-none-any.whl.metadata (8.6 kB)\r\n",
      "Requirement already satisfied: typing-extensions in /opt/conda/lib/python3.10/site-packages (from torcheval) (4.9.0)\r\n",
      "Downloading torcheval-0.0.7-py3-none-any.whl (179 kB)\r\n",
      "\u001b[2K   \u001b[90m━━━━━━━━━━━━━━━━━━━━━━━━━━━━━━━━━━━━━━━━\u001b[0m \u001b[32m179.2/179.2 kB\u001b[0m \u001b[31m1.6 MB/s\u001b[0m eta \u001b[36m0:00:00\u001b[0m\r\n",
      "\u001b[?25hInstalling collected packages: torcheval\r\n",
      "Successfully installed torcheval-0.0.7\r\n"
     ]
    }
   ],
   "source": [
    "!pip install torcheval\n"
   ]
  },
  {
   "cell_type": "code",
   "execution_count": 2,
   "id": "01491a89",
   "metadata": {
    "execution": {
     "iopub.execute_input": "2024-04-30T14:21:22.286691Z",
     "iopub.status.busy": "2024-04-30T14:21:22.286386Z",
     "iopub.status.idle": "2024-04-30T14:21:31.038053Z",
     "shell.execute_reply": "2024-04-30T14:21:31.037009Z"
    },
    "papermill": {
     "duration": 8.770163,
     "end_time": "2024-04-30T14:21:31.040528",
     "exception": false,
     "start_time": "2024-04-30T14:21:22.270365",
     "status": "completed"
    },
    "tags": []
   },
   "outputs": [],
   "source": [
    "import torch\n",
    "from torch import nn\n",
    "import pandas as pd\n",
    "import numpy as np\n",
    "import matplotlib.pyplot as plt\n",
    "from typing import Tuple\n",
    "import torchvision\n",
    "from torcheval.metrics import BinaryAUROC"
   ]
  },
  {
   "cell_type": "code",
   "execution_count": 3,
   "id": "eec7a57f",
   "metadata": {
    "execution": {
     "iopub.execute_input": "2024-04-30T14:21:31.072948Z",
     "iopub.status.busy": "2024-04-30T14:21:31.072533Z",
     "iopub.status.idle": "2024-04-30T14:21:31.165542Z",
     "shell.execute_reply": "2024-04-30T14:21:31.164672Z"
    },
    "papermill": {
     "duration": 0.111448,
     "end_time": "2024-04-30T14:21:31.167956",
     "exception": false,
     "start_time": "2024-04-30T14:21:31.056508",
     "status": "completed"
    },
    "tags": []
   },
   "outputs": [
    {
     "data": {
      "text/plain": [
       "True"
      ]
     },
     "execution_count": 3,
     "metadata": {},
     "output_type": "execute_result"
    }
   ],
   "source": [
    "torch.cuda.is_available()"
   ]
  },
  {
   "cell_type": "code",
   "execution_count": 4,
   "id": "c474771f",
   "metadata": {
    "execution": {
     "iopub.execute_input": "2024-04-30T14:21:31.203050Z",
     "iopub.status.busy": "2024-04-30T14:21:31.202391Z",
     "iopub.status.idle": "2024-04-30T14:21:31.208774Z",
     "shell.execute_reply": "2024-04-30T14:21:31.207851Z"
    },
    "papermill": {
     "duration": 0.023887,
     "end_time": "2024-04-30T14:21:31.210573",
     "exception": false,
     "start_time": "2024-04-30T14:21:31.186686",
     "status": "completed"
    },
    "tags": []
   },
   "outputs": [
    {
     "data": {
      "text/plain": [
       "'cuda'"
      ]
     },
     "execution_count": 4,
     "metadata": {},
     "output_type": "execute_result"
    }
   ],
   "source": [
    "device = \"cuda\" if torch.cuda.is_available() else \"cpu\"\n",
    "device"
   ]
  },
  {
   "cell_type": "code",
   "execution_count": 5,
   "id": "2c1c70e7",
   "metadata": {
    "execution": {
     "iopub.execute_input": "2024-04-30T14:21:31.241570Z",
     "iopub.status.busy": "2024-04-30T14:21:31.240871Z",
     "iopub.status.idle": "2024-04-30T14:21:31.593757Z",
     "shell.execute_reply": "2024-04-30T14:21:31.592883Z"
    },
    "papermill": {
     "duration": 0.370688,
     "end_time": "2024-04-30T14:21:31.595891",
     "exception": false,
     "start_time": "2024-04-30T14:21:31.225203",
     "status": "completed"
    },
    "tags": []
   },
   "outputs": [
    {
     "data": {
      "text/html": [
       "<div>\n",
       "<style scoped>\n",
       "    .dataframe tbody tr th:only-of-type {\n",
       "        vertical-align: middle;\n",
       "    }\n",
       "\n",
       "    .dataframe tbody tr th {\n",
       "        vertical-align: top;\n",
       "    }\n",
       "\n",
       "    .dataframe thead th {\n",
       "        text-align: right;\n",
       "    }\n",
       "</style>\n",
       "<table border=\"1\" class=\"dataframe\">\n",
       "  <thead>\n",
       "    <tr style=\"text-align: right;\">\n",
       "      <th></th>\n",
       "      <th>id</th>\n",
       "      <th>label</th>\n",
       "    </tr>\n",
       "  </thead>\n",
       "  <tbody>\n",
       "    <tr>\n",
       "      <th>0</th>\n",
       "      <td>f38a6374c348f90b587e046aac6079959adf3835</td>\n",
       "      <td>0</td>\n",
       "    </tr>\n",
       "    <tr>\n",
       "      <th>1</th>\n",
       "      <td>c18f2d887b7ae4f6742ee445113fa1aef383ed77</td>\n",
       "      <td>1</td>\n",
       "    </tr>\n",
       "    <tr>\n",
       "      <th>2</th>\n",
       "      <td>755db6279dae599ebb4d39a9123cce439965282d</td>\n",
       "      <td>0</td>\n",
       "    </tr>\n",
       "    <tr>\n",
       "      <th>3</th>\n",
       "      <td>bc3f0c64fb968ff4a8bd33af6971ecae77c75e08</td>\n",
       "      <td>0</td>\n",
       "    </tr>\n",
       "    <tr>\n",
       "      <th>4</th>\n",
       "      <td>068aba587a4950175d04c680d38943fd488d6a9d</td>\n",
       "      <td>0</td>\n",
       "    </tr>\n",
       "    <tr>\n",
       "      <th>...</th>\n",
       "      <td>...</td>\n",
       "      <td>...</td>\n",
       "    </tr>\n",
       "    <tr>\n",
       "      <th>220020</th>\n",
       "      <td>53e9aa9d46e720bf3c6a7528d1fca3ba6e2e49f6</td>\n",
       "      <td>0</td>\n",
       "    </tr>\n",
       "    <tr>\n",
       "      <th>220021</th>\n",
       "      <td>d4b854fe38b07fe2831ad73892b3cec877689576</td>\n",
       "      <td>1</td>\n",
       "    </tr>\n",
       "    <tr>\n",
       "      <th>220022</th>\n",
       "      <td>3d046cead1a2a5cbe00b2b4847cfb7ba7cf5fe75</td>\n",
       "      <td>0</td>\n",
       "    </tr>\n",
       "    <tr>\n",
       "      <th>220023</th>\n",
       "      <td>f129691c13433f66e1e0671ff1fe80944816f5a2</td>\n",
       "      <td>0</td>\n",
       "    </tr>\n",
       "    <tr>\n",
       "      <th>220024</th>\n",
       "      <td>a81f84895ddcd522302ddf34be02eb1b3e5af1cb</td>\n",
       "      <td>1</td>\n",
       "    </tr>\n",
       "  </tbody>\n",
       "</table>\n",
       "<p>220025 rows × 2 columns</p>\n",
       "</div>"
      ],
      "text/plain": [
       "                                              id  label\n",
       "0       f38a6374c348f90b587e046aac6079959adf3835      0\n",
       "1       c18f2d887b7ae4f6742ee445113fa1aef383ed77      1\n",
       "2       755db6279dae599ebb4d39a9123cce439965282d      0\n",
       "3       bc3f0c64fb968ff4a8bd33af6971ecae77c75e08      0\n",
       "4       068aba587a4950175d04c680d38943fd488d6a9d      0\n",
       "...                                          ...    ...\n",
       "220020  53e9aa9d46e720bf3c6a7528d1fca3ba6e2e49f6      0\n",
       "220021  d4b854fe38b07fe2831ad73892b3cec877689576      1\n",
       "220022  3d046cead1a2a5cbe00b2b4847cfb7ba7cf5fe75      0\n",
       "220023  f129691c13433f66e1e0671ff1fe80944816f5a2      0\n",
       "220024  a81f84895ddcd522302ddf34be02eb1b3e5af1cb      1\n",
       "\n",
       "[220025 rows x 2 columns]"
      ]
     },
     "execution_count": 5,
     "metadata": {},
     "output_type": "execute_result"
    }
   ],
   "source": [
    "competition_dir = \"/kaggle/input/histopathologic-cancer-detection/\"\n",
    "\n",
    "label_df = pd.read_csv(competition_dir+\"train_labels.csv\")\n",
    "label_df"
   ]
  },
  {
   "cell_type": "code",
   "execution_count": 6,
   "id": "3f8e8254",
   "metadata": {
    "execution": {
     "iopub.execute_input": "2024-04-30T14:21:31.627292Z",
     "iopub.status.busy": "2024-04-30T14:21:31.626972Z",
     "iopub.status.idle": "2024-04-30T14:21:31.632991Z",
     "shell.execute_reply": "2024-04-30T14:21:31.632136Z"
    },
    "papermill": {
     "duration": 0.02383,
     "end_time": "2024-04-30T14:21:31.634828",
     "exception": false,
     "start_time": "2024-04-30T14:21:31.610998",
     "status": "completed"
    },
    "tags": []
   },
   "outputs": [],
   "source": [
    "import os\n",
    "from pathlib import Path\n",
    "\n",
    "train_dir = Path(competition_dir+\"train\")\n",
    "test_dir = Path(competition_dir+\"test\")\n",
    "\n",
    "\n",
    "def walk_through_dir(dir_path):\n",
    "    \"\"\"\n",
    "      Walks through dir_path returning its contents.\n",
    "      Args:\n",
    "        dir_path (str or pathlib.Path): target directory\n",
    "  \n",
    "      Returns:\n",
    "        A print out of:\n",
    "          number of subdiretories in dir_path\n",
    "          number of images (files) in each subdirectory\n",
    "          name of each subdirectory\n",
    "      \"\"\"\n",
    "    for dirpath, dirnames, filenames in os.walk(dir_path):\n",
    "        print(f\"There are {len(dirnames)} directories and {len(filenames)} images in '{dirpath}'.\")"
   ]
  },
  {
   "cell_type": "code",
   "execution_count": 7,
   "id": "c1f99446",
   "metadata": {
    "execution": {
     "iopub.execute_input": "2024-04-30T14:21:31.665720Z",
     "iopub.status.busy": "2024-04-30T14:21:31.665476Z",
     "iopub.status.idle": "2024-04-30T14:21:31.669073Z",
     "shell.execute_reply": "2024-04-30T14:21:31.668227Z"
    },
    "papermill": {
     "duration": 0.021169,
     "end_time": "2024-04-30T14:21:31.671040",
     "exception": false,
     "start_time": "2024-04-30T14:21:31.649871",
     "status": "completed"
    },
    "tags": []
   },
   "outputs": [],
   "source": [
    "#walk_through_dir(train_dir)\n",
    "#walk_through_dir(test_dir)"
   ]
  },
  {
   "cell_type": "code",
   "execution_count": 8,
   "id": "0b76c165",
   "metadata": {
    "execution": {
     "iopub.execute_input": "2024-04-30T14:21:31.704222Z",
     "iopub.status.busy": "2024-04-30T14:21:31.703729Z",
     "iopub.status.idle": "2024-04-30T14:21:35.660001Z",
     "shell.execute_reply": "2024-04-30T14:21:35.659030Z"
    },
    "papermill": {
     "duration": 3.974444,
     "end_time": "2024-04-30T14:21:35.662070",
     "exception": false,
     "start_time": "2024-04-30T14:21:31.687626",
     "status": "completed"
    },
    "tags": []
   },
   "outputs": [
    {
     "name": "stdout",
     "output_type": "stream",
     "text": [
      "ID: 38c20f292d6b4cd45acfd67bc6d516c5d2639ad2 | Label: 1\n"
     ]
    },
    {
     "data": {
      "image/png": "[encoded data removed]",
      "text/plain": [
       "<PIL.TiffImagePlugin.TiffImageFile image mode=RGB size=96x96>"
      ]
     },
     "execution_count": 8,
     "metadata": {},
     "output_type": "execute_result"
    }
   ],
   "source": [
    "import random\n",
    "from PIL import Image\n",
    "\n",
    "image_path_list = list(train_dir.glob(\"*.tif\"))\n",
    "\n",
    "random_image_path = random.choice(image_path_list)\n",
    "\n",
    "random_image_id = random_image_path.stem\n",
    "random_image_label = label_df[label_df['id'] == random_image_id].label.values[0]\n",
    "\n",
    "print(f\"ID: {random_image_id} | Label: {random_image_label}\")\n",
    "\n",
    "img = Image.open(random_image_path)\n",
    "img"
   ]
  },
  {
   "cell_type": "code",
   "execution_count": 9,
   "id": "9fa4935e",
   "metadata": {
    "execution": {
     "iopub.execute_input": "2024-04-30T14:21:35.695684Z",
     "iopub.status.busy": "2024-04-30T14:21:35.694995Z",
     "iopub.status.idle": "2024-04-30T14:21:35.699911Z",
     "shell.execute_reply": "2024-04-30T14:21:35.699086Z"
    },
    "papermill": {
     "duration": 0.023543,
     "end_time": "2024-04-30T14:21:35.701678",
     "exception": false,
     "start_time": "2024-04-30T14:21:35.678135",
     "status": "completed"
    },
    "tags": []
   },
   "outputs": [],
   "source": [
    "def my_train_test_split(total_df: pd.DataFrame, split_proportion: float) -> Tuple[pd.DataFrame, pd.DataFrame]:\n",
    "    \n",
    "    \"\"\"Function to split the dataset in training and test according to a given proportion between 0 and 1   \n",
    "    \"\"\"\n",
    "    \n",
    "    train_df = total_df.sample(frac = split_proportion)\n",
    "    test_df = total_df.drop(train_df.index)\n",
    "    \n",
    "    return train_df, test_df"
   ]
  },
  {
   "cell_type": "code",
   "execution_count": 10,
   "id": "a08bbde7",
   "metadata": {
    "execution": {
     "iopub.execute_input": "2024-04-30T14:21:35.735361Z",
     "iopub.status.busy": "2024-04-30T14:21:35.734749Z",
     "iopub.status.idle": "2024-04-30T14:21:35.784672Z",
     "shell.execute_reply": "2024-04-30T14:21:35.783752Z"
    },
    "papermill": {
     "duration": 0.068993,
     "end_time": "2024-04-30T14:21:35.786960",
     "exception": false,
     "start_time": "2024-04-30T14:21:35.717967",
     "status": "completed"
    },
    "tags": []
   },
   "outputs": [
    {
     "data": {
      "text/html": [
       "<div>\n",
       "<style scoped>\n",
       "    .dataframe tbody tr th:only-of-type {\n",
       "        vertical-align: middle;\n",
       "    }\n",
       "\n",
       "    .dataframe tbody tr th {\n",
       "        vertical-align: top;\n",
       "    }\n",
       "\n",
       "    .dataframe thead th {\n",
       "        text-align: right;\n",
       "    }\n",
       "</style>\n",
       "<table border=\"1\" class=\"dataframe\">\n",
       "  <thead>\n",
       "    <tr style=\"text-align: right;\">\n",
       "      <th></th>\n",
       "      <th>id</th>\n",
       "      <th>label</th>\n",
       "    </tr>\n",
       "  </thead>\n",
       "  <tbody>\n",
       "    <tr>\n",
       "      <th>273</th>\n",
       "      <td>336b8b8fbcb3df72a114eddd35f33a5b7542ea21</td>\n",
       "      <td>1</td>\n",
       "    </tr>\n",
       "    <tr>\n",
       "      <th>365</th>\n",
       "      <td>b387400d9cdeb5c1fd90fb7758ab25203d0527f8</td>\n",
       "      <td>0</td>\n",
       "    </tr>\n",
       "    <tr>\n",
       "      <th>426</th>\n",
       "      <td>496627cf8196e992dd5e76231dd7db6f6d71fcbd</td>\n",
       "      <td>0</td>\n",
       "    </tr>\n",
       "    <tr>\n",
       "      <th>428</th>\n",
       "      <td>3af463e2df35946db06b1edaf53a70f3263a05f6</td>\n",
       "      <td>0</td>\n",
       "    </tr>\n",
       "    <tr>\n",
       "      <th>491</th>\n",
       "      <td>7ce16340f6c47b9b9ba7f4b43463ed6e841d5cbf</td>\n",
       "      <td>0</td>\n",
       "    </tr>\n",
       "    <tr>\n",
       "      <th>...</th>\n",
       "      <td>...</td>\n",
       "      <td>...</td>\n",
       "    </tr>\n",
       "    <tr>\n",
       "      <th>219606</th>\n",
       "      <td>9b890b776097c466feb103e31d939d5185bb77e8</td>\n",
       "      <td>1</td>\n",
       "    </tr>\n",
       "    <tr>\n",
       "      <th>219687</th>\n",
       "      <td>74c5673664ad8170f4b04570dc28b973529144cf</td>\n",
       "      <td>1</td>\n",
       "    </tr>\n",
       "    <tr>\n",
       "      <th>219787</th>\n",
       "      <td>66673629b5f06dadf013b43355ea25da75536515</td>\n",
       "      <td>0</td>\n",
       "    </tr>\n",
       "    <tr>\n",
       "      <th>219852</th>\n",
       "      <td>c5b35bfe01c1aa2ad29223169a823acbeaa4c141</td>\n",
       "      <td>1</td>\n",
       "    </tr>\n",
       "    <tr>\n",
       "      <th>220013</th>\n",
       "      <td>1092801a1d1d7cc8e45b1d909c553ea400615d68</td>\n",
       "      <td>0</td>\n",
       "    </tr>\n",
       "  </tbody>\n",
       "</table>\n",
       "<p>3300 rows × 2 columns</p>\n",
       "</div>"
      ],
      "text/plain": [
       "                                              id  label\n",
       "273     336b8b8fbcb3df72a114eddd35f33a5b7542ea21      1\n",
       "365     b387400d9cdeb5c1fd90fb7758ab25203d0527f8      0\n",
       "426     496627cf8196e992dd5e76231dd7db6f6d71fcbd      0\n",
       "428     3af463e2df35946db06b1edaf53a70f3263a05f6      0\n",
       "491     7ce16340f6c47b9b9ba7f4b43463ed6e841d5cbf      0\n",
       "...                                          ...    ...\n",
       "219606  9b890b776097c466feb103e31d939d5185bb77e8      1\n",
       "219687  74c5673664ad8170f4b04570dc28b973529144cf      1\n",
       "219787  66673629b5f06dadf013b43355ea25da75536515      0\n",
       "219852  c5b35bfe01c1aa2ad29223169a823acbeaa4c141      1\n",
       "220013  1092801a1d1d7cc8e45b1d909c553ea400615d68      0\n",
       "\n",
       "[3300 rows x 2 columns]"
      ]
     },
     "execution_count": 10,
     "metadata": {},
     "output_type": "execute_result"
    }
   ],
   "source": [
    "#Start training with only 5% of the avauilable data\n",
    "big_df, small_df = my_train_test_split(label_df, 0.95)\n",
    "\n",
    "train_df, test_df = my_train_test_split(small_df, 0.7)\n",
    "\n",
    "test_df"
   ]
  },
  {
   "cell_type": "code",
   "execution_count": 11,
   "id": "cbfe2f37",
   "metadata": {
    "execution": {
     "iopub.execute_input": "2024-04-30T14:21:35.821619Z",
     "iopub.status.busy": "2024-04-30T14:21:35.821326Z",
     "iopub.status.idle": "2024-04-30T14:21:35.830528Z",
     "shell.execute_reply": "2024-04-30T14:21:35.829671Z"
    },
    "papermill": {
     "duration": 0.027779,
     "end_time": "2024-04-30T14:21:35.832401",
     "exception": false,
     "start_time": "2024-04-30T14:21:35.804622",
     "status": "completed"
    },
    "tags": []
   },
   "outputs": [],
   "source": [
    "from torch.utils.data import Dataset\n",
    "import pathlib\n",
    "\n",
    "class DatasetGenerator(Dataset):\n",
    "    \n",
    "    def __init__(self, targ_dir: str, labels_df: pd.DataFrame, transform=None) -> None:\n",
    "        \n",
    "        # 3. Create class attributes\n",
    "        # Get all image paths\n",
    "        self.paths = list(pathlib.Path(targ_dir)/(im_id+\".tif\") for im_id in labels_df['id']) # note: you'd have to update this if you've got .png's or .jpeg's\n",
    "        # Setup transforms\n",
    "        self.transform = transform\n",
    "        # Create classes and class_to_idx attributes\n",
    "        self.labels_df = labels_df\n",
    "        \n",
    "    def load_image(self, index: int) -> Tuple[Image.Image, str]:\n",
    "        \"Opens an image via a path and returns it.\"\n",
    "        image_path = self.paths[index]\n",
    "        image_id = self.paths[index].stem\n",
    "        return Image.open(image_path), image_id\n",
    "    \n",
    "    def __len__(self) -> int:\n",
    "        \"Returns the total number of samples.\"\n",
    "        return len(self.paths)\n",
    "    \n",
    "    def __getitem__(self, index: int) -> Tuple[torch.Tensor, int]:\n",
    "        \"Returns one sample of data, data and label (X, y).\"\n",
    "        img, image_id = self.load_image(index)\n",
    "        label = self.labels_df[self.labels_df['id'] == image_id].label.values[0]\n",
    "\n",
    "        # Transform if necessary\n",
    "        if self.transform:\n",
    "            return self.transform(img), label # return data, label (X, y)\n",
    "        else:\n",
    "            return img, label # return data, label (X, y)"
   ]
  },
  {
   "cell_type": "code",
   "execution_count": 12,
   "id": "0e5eb310",
   "metadata": {
    "execution": {
     "iopub.execute_input": "2024-04-30T14:21:35.867017Z",
     "iopub.status.busy": "2024-04-30T14:21:35.866295Z",
     "iopub.status.idle": "2024-04-30T14:21:37.372237Z",
     "shell.execute_reply": "2024-04-30T14:21:37.371246Z"
    },
    "papermill": {
     "duration": 1.525373,
     "end_time": "2024-04-30T14:21:37.374728",
     "exception": false,
     "start_time": "2024-04-30T14:21:35.849355",
     "status": "completed"
    },
    "tags": []
   },
   "outputs": [
    {
     "name": "stderr",
     "output_type": "stream",
     "text": [
      "Downloading: \"https://download.pytorch.org/models/efficientnet_v2_s-dd5fe13b.pth\" to /root/.cache/torch/hub/checkpoints/efficientnet_v2_s-dd5fe13b.pth\n",
      "100%|██████████| 82.7M/82.7M [00:00<00:00, 157MB/s]\n"
     ]
    }
   ],
   "source": [
    "weights = torchvision.models.EfficientNet_V2_S_Weights.DEFAULT # .DEFAULT = best available weights \n",
    "model = torchvision.models.efficientnet_v2_s(weights=weights).to(device)"
   ]
  },
  {
   "cell_type": "code",
   "execution_count": 13,
   "id": "0b2cdf54",
   "metadata": {
    "execution": {
     "iopub.execute_input": "2024-04-30T14:21:37.409459Z",
     "iopub.status.busy": "2024-04-30T14:21:37.409139Z",
     "iopub.status.idle": "2024-04-30T14:21:37.415058Z",
     "shell.execute_reply": "2024-04-30T14:21:37.414168Z"
    },
    "papermill": {
     "duration": 0.025409,
     "end_time": "2024-04-30T14:21:37.417027",
     "exception": false,
     "start_time": "2024-04-30T14:21:37.391618",
     "status": "completed"
    },
    "tags": []
   },
   "outputs": [
    {
     "data": {
      "text/plain": [
       "ImageClassification(\n",
       "    crop_size=[384]\n",
       "    resize_size=[384]\n",
       "    mean=[0.485, 0.456, 0.406]\n",
       "    std=[0.229, 0.224, 0.225]\n",
       "    interpolation=InterpolationMode.BILINEAR\n",
       ")"
      ]
     },
     "execution_count": 13,
     "metadata": {},
     "output_type": "execute_result"
    }
   ],
   "source": [
    "auto_transforms = weights.transforms()\n",
    "auto_transforms"
   ]
  },
  {
   "cell_type": "code",
   "execution_count": 14,
   "id": "65db76f5",
   "metadata": {
    "execution": {
     "iopub.execute_input": "2024-04-30T14:21:37.451747Z",
     "iopub.status.busy": "2024-04-30T14:21:37.451211Z",
     "iopub.status.idle": "2024-04-30T14:21:37.556898Z",
     "shell.execute_reply": "2024-04-30T14:21:37.556146Z"
    },
    "papermill": {
     "duration": 0.125171,
     "end_time": "2024-04-30T14:21:37.558846",
     "exception": false,
     "start_time": "2024-04-30T14:21:37.433675",
     "status": "completed"
    },
    "tags": []
   },
   "outputs": [],
   "source": [
    "train_data = DatasetGenerator(competition_dir+\"train\",train_df, transform = auto_transforms)"
   ]
  },
  {
   "cell_type": "code",
   "execution_count": 15,
   "id": "cb052134",
   "metadata": {
    "execution": {
     "iopub.execute_input": "2024-04-30T14:21:37.594749Z",
     "iopub.status.busy": "2024-04-30T14:21:37.594047Z",
     "iopub.status.idle": "2024-04-30T14:21:37.680541Z",
     "shell.execute_reply": "2024-04-30T14:21:37.679671Z"
    },
    "papermill": {
     "duration": 0.10623,
     "end_time": "2024-04-30T14:21:37.682420",
     "exception": false,
     "start_time": "2024-04-30T14:21:37.576190",
     "status": "completed"
    },
    "tags": []
   },
   "outputs": [
    {
     "data": {
      "text/plain": [
       "tensor([[[2.0092, 2.0092, 1.9920,  ..., 2.1462, 2.2147, 2.2147],\n",
       "         [2.0092, 2.0092, 1.9920,  ..., 2.1462, 2.2147, 2.2147],\n",
       "         [1.9920, 1.9920, 1.9749,  ..., 2.1119, 2.1633, 2.1633],\n",
       "         ...,\n",
       "         [2.0605, 2.0605, 2.0605,  ..., 1.3584, 1.3927, 1.3927],\n",
       "         [2.0605, 2.0605, 2.0605,  ..., 1.4269, 1.4612, 1.4612],\n",
       "         [2.0605, 2.0605, 2.0605,  ..., 1.4269, 1.4612, 1.4612]],\n",
       "\n",
       "        [[2.1835, 2.1835, 2.1660,  ..., 2.0084, 2.1134, 2.1134],\n",
       "         [2.1835, 2.1835, 2.1660,  ..., 2.0084, 2.1134, 2.1134],\n",
       "         [2.1660, 2.1660, 2.1485,  ..., 1.9909, 2.0784, 2.0784],\n",
       "         ...,\n",
       "         [2.2185, 2.2185, 2.2185,  ..., 0.1702, 0.1877, 0.1877],\n",
       "         [2.2185, 2.2185, 2.2185,  ..., 0.2402, 0.2577, 0.2577],\n",
       "         [2.2185, 2.2185, 2.2185,  ..., 0.2402, 0.2577, 0.2577]],\n",
       "\n",
       "        [[2.3960, 2.3960, 2.3786,  ..., 2.4657, 2.5529, 2.5529],\n",
       "         [2.3960, 2.3960, 2.3786,  ..., 2.4657, 2.5529, 2.5529],\n",
       "         [2.3786, 2.3786, 2.3611,  ..., 2.4308, 2.5006, 2.5006],\n",
       "         ...,\n",
       "         [2.3960, 2.3960, 2.3960,  ..., 1.0714, 1.1062, 1.1062],\n",
       "         [2.3960, 2.3960, 2.3960,  ..., 1.1411, 1.1759, 1.1759],\n",
       "         [2.3960, 2.3960, 2.3960,  ..., 1.1411, 1.1759, 1.1759]]])"
      ]
     },
     "execution_count": 15,
     "metadata": {},
     "output_type": "execute_result"
    }
   ],
   "source": [
    "im, l = train_data[10]\n",
    "im"
   ]
  },
  {
   "cell_type": "code",
   "execution_count": 16,
   "id": "4ca890fd",
   "metadata": {
    "execution": {
     "iopub.execute_input": "2024-04-30T14:21:37.718387Z",
     "iopub.status.busy": "2024-04-30T14:21:37.717787Z",
     "iopub.status.idle": "2024-04-30T14:21:37.782305Z",
     "shell.execute_reply": "2024-04-30T14:21:37.781487Z"
    },
    "papermill": {
     "duration": 0.084803,
     "end_time": "2024-04-30T14:21:37.784265",
     "exception": false,
     "start_time": "2024-04-30T14:21:37.699462",
     "status": "completed"
    },
    "tags": []
   },
   "outputs": [
    {
     "data": {
      "text/plain": [
       "tensor([[[1.7523, 1.7523, 1.8037,  ..., 2.2489, 2.2489, 2.2489],\n",
       "         [1.7523, 1.7523, 1.8037,  ..., 2.2489, 2.2489, 2.2489],\n",
       "         [1.7352, 1.7352, 1.7865,  ..., 2.0434, 2.0263, 2.0263],\n",
       "         ...,\n",
       "         [1.2728, 1.2728, 1.3413,  ..., 1.6324, 1.6667, 1.6667],\n",
       "         [1.1529, 1.1529, 1.2557,  ..., 1.5982, 1.6324, 1.6324],\n",
       "         [1.1529, 1.1529, 1.2557,  ..., 1.5982, 1.6324, 1.6324]],\n",
       "\n",
       "        [[1.2381, 1.2381, 1.2906,  ..., 1.8683, 1.8683, 1.8683],\n",
       "         [1.2381, 1.2381, 1.2906,  ..., 1.8683, 1.8683, 1.8683],\n",
       "         [1.2206, 1.2206, 1.2906,  ..., 1.6232, 1.6057, 1.6057],\n",
       "         ...,\n",
       "         [0.5028, 0.5028, 0.5728,  ..., 1.0105, 1.0455, 1.0455],\n",
       "         [0.3627, 0.3627, 0.4678,  ..., 0.9930, 1.0280, 1.0280],\n",
       "         [0.3627, 0.3627, 0.4678,  ..., 0.9930, 1.0280, 1.0280]],\n",
       "\n",
       "        [[1.8208, 1.8208, 1.8731,  ..., 2.3263, 2.3263, 2.3263],\n",
       "         [1.8208, 1.8208, 1.8731,  ..., 2.3263, 2.3263, 2.3263],\n",
       "         [1.8034, 1.8034, 1.8557,  ..., 2.0823, 2.0648, 2.0648],\n",
       "         ...,\n",
       "         [1.2631, 1.2631, 1.3502,  ..., 1.5071, 1.5420, 1.5420],\n",
       "         [1.1411, 1.1411, 1.2457,  ..., 1.4722, 1.5071, 1.5071],\n",
       "         [1.1411, 1.1411, 1.2457,  ..., 1.4722, 1.5071, 1.5071]]])"
      ]
     },
     "execution_count": 16,
     "metadata": {},
     "output_type": "execute_result"
    }
   ],
   "source": [
    "test_data = DatasetGenerator(competition_dir+\"train\",test_df, transform = auto_transforms)\n",
    "im, l = test_data[10]\n",
    "im"
   ]
  },
  {
   "cell_type": "code",
   "execution_count": 17,
   "id": "f4ecd867",
   "metadata": {
    "execution": {
     "iopub.execute_input": "2024-04-30T14:21:37.820149Z",
     "iopub.status.busy": "2024-04-30T14:21:37.819591Z",
     "iopub.status.idle": "2024-04-30T14:21:37.825443Z",
     "shell.execute_reply": "2024-04-30T14:21:37.824510Z"
    },
    "papermill": {
     "duration": 0.025353,
     "end_time": "2024-04-30T14:21:37.827375",
     "exception": false,
     "start_time": "2024-04-30T14:21:37.802022",
     "status": "completed"
    },
    "tags": []
   },
   "outputs": [
    {
     "data": {
      "text/plain": [
       "(7701, 3300)"
      ]
     },
     "execution_count": 17,
     "metadata": {},
     "output_type": "execute_result"
    }
   ],
   "source": [
    "len(train_data), len(test_data)"
   ]
  },
  {
   "cell_type": "code",
   "execution_count": 18,
   "id": "0bde0d52",
   "metadata": {
    "execution": {
     "iopub.execute_input": "2024-04-30T14:21:37.864972Z",
     "iopub.status.busy": "2024-04-30T14:21:37.864204Z",
     "iopub.status.idle": "2024-04-30T14:21:37.872229Z",
     "shell.execute_reply": "2024-04-30T14:21:37.871385Z"
    },
    "papermill": {
     "duration": 0.02837,
     "end_time": "2024-04-30T14:21:37.874201",
     "exception": false,
     "start_time": "2024-04-30T14:21:37.845831",
     "status": "completed"
    },
    "tags": []
   },
   "outputs": [
    {
     "data": {
      "text/plain": [
       "(<torch.utils.data.dataloader.DataLoader at 0x79a0bffbf9d0>,\n",
       " <torch.utils.data.dataloader.DataLoader at 0x79a0b9206f80>)"
      ]
     },
     "execution_count": 18,
     "metadata": {},
     "output_type": "execute_result"
    }
   ],
   "source": [
    "from torch.utils.data import DataLoader\n",
    "\n",
    "BATCH_SIZE = 32\n",
    "\n",
    "train_dataloader = DataLoader(dataset=train_data, # use custom created train Dataset\n",
    "                                     batch_size=BATCH_SIZE, # how many samples per batch?\n",
    "                                     num_workers=0, # how many subprocesses to use for data loading? (higher = more)\n",
    "                                     shuffle=True) # shuffle the data?\n",
    "\n",
    "test_dataloader = DataLoader(dataset=test_data, # use custom created test Dataset\n",
    "                                    batch_size=BATCH_SIZE, \n",
    "                                    num_workers=0, \n",
    "                                    shuffle=False) # don't usually need to shuffle testing data\n",
    "\n",
    "train_dataloader, test_dataloader"
   ]
  },
  {
   "cell_type": "code",
   "execution_count": 19,
   "id": "523f952d",
   "metadata": {
    "execution": {
     "iopub.execute_input": "2024-04-30T14:21:37.911308Z",
     "iopub.status.busy": "2024-04-30T14:21:37.910560Z",
     "iopub.status.idle": "2024-04-30T14:21:38.978831Z",
     "shell.execute_reply": "2024-04-30T14:21:38.977971Z"
    },
    "papermill": {
     "duration": 1.088995,
     "end_time": "2024-04-30T14:21:38.981176",
     "exception": false,
     "start_time": "2024-04-30T14:21:37.892181",
     "status": "completed"
    },
    "tags": []
   },
   "outputs": [
    {
     "data": {
      "text/plain": [
       "============================================================================================================================================\n",
       "Layer (type (var_name))                                      Input Shape          Output Shape         Param #              Trainable\n",
       "============================================================================================================================================\n",
       "EfficientNet (EfficientNet)                                  [32, 3, 224, 224]    [32, 1000]           --                   True\n",
       "├─Sequential (features)                                      [32, 3, 224, 224]    [32, 1280, 7, 7]     --                   True\n",
       "│    └─Conv2dNormActivation (0)                              [32, 3, 224, 224]    [32, 24, 112, 112]   --                   True\n",
       "│    │    └─Conv2d (0)                                       [32, 3, 224, 224]    [32, 24, 112, 112]   648                  True\n",
       "│    │    └─BatchNorm2d (1)                                  [32, 24, 112, 112]   [32, 24, 112, 112]   48                   True\n",
       "│    │    └─SiLU (2)                                         [32, 24, 112, 112]   [32, 24, 112, 112]   --                   --\n",
       "│    └─Sequential (1)                                        [32, 24, 112, 112]   [32, 24, 112, 112]   --                   True\n",
       "│    │    └─FusedMBConv (0)                                  [32, 24, 112, 112]   [32, 24, 112, 112]   5,232                True\n",
       "│    │    └─FusedMBConv (1)                                  [32, 24, 112, 112]   [32, 24, 112, 112]   5,232                True\n",
       "│    └─Sequential (2)                                        [32, 24, 112, 112]   [32, 48, 56, 56]     --                   True\n",
       "│    │    └─FusedMBConv (0)                                  [32, 24, 112, 112]   [32, 48, 56, 56]     25,632               True\n",
       "│    │    └─FusedMBConv (1)                                  [32, 48, 56, 56]     [32, 48, 56, 56]     92,640               True\n",
       "│    │    └─FusedMBConv (2)                                  [32, 48, 56, 56]     [32, 48, 56, 56]     92,640               True\n",
       "│    │    └─FusedMBConv (3)                                  [32, 48, 56, 56]     [32, 48, 56, 56]     92,640               True\n",
       "│    └─Sequential (3)                                        [32, 48, 56, 56]     [32, 64, 28, 28]     --                   True\n",
       "│    │    └─FusedMBConv (0)                                  [32, 48, 56, 56]     [32, 64, 28, 28]     95,744               True\n",
       "│    │    └─FusedMBConv (1)                                  [32, 64, 28, 28]     [32, 64, 28, 28]     164,480              True\n",
       "│    │    └─FusedMBConv (2)                                  [32, 64, 28, 28]     [32, 64, 28, 28]     164,480              True\n",
       "│    │    └─FusedMBConv (3)                                  [32, 64, 28, 28]     [32, 64, 28, 28]     164,480              True\n",
       "│    └─Sequential (4)                                        [32, 64, 28, 28]     [32, 128, 14, 14]    --                   True\n",
       "│    │    └─MBConv (0)                                       [32, 64, 28, 28]     [32, 128, 14, 14]    61,200               True\n",
       "│    │    └─MBConv (1)                                       [32, 128, 14, 14]    [32, 128, 14, 14]    171,296              True\n",
       "│    │    └─MBConv (2)                                       [32, 128, 14, 14]    [32, 128, 14, 14]    171,296              True\n",
       "│    │    └─MBConv (3)                                       [32, 128, 14, 14]    [32, 128, 14, 14]    171,296              True\n",
       "│    │    └─MBConv (4)                                       [32, 128, 14, 14]    [32, 128, 14, 14]    171,296              True\n",
       "│    │    └─MBConv (5)                                       [32, 128, 14, 14]    [32, 128, 14, 14]    171,296              True\n",
       "│    └─Sequential (5)                                        [32, 128, 14, 14]    [32, 160, 14, 14]    --                   True\n",
       "│    │    └─MBConv (0)                                       [32, 128, 14, 14]    [32, 160, 14, 14]    281,440              True\n",
       "│    │    └─MBConv (1)                                       [32, 160, 14, 14]    [32, 160, 14, 14]    397,800              True\n",
       "│    │    └─MBConv (2)                                       [32, 160, 14, 14]    [32, 160, 14, 14]    397,800              True\n",
       "│    │    └─MBConv (3)                                       [32, 160, 14, 14]    [32, 160, 14, 14]    397,800              True\n",
       "│    │    └─MBConv (4)                                       [32, 160, 14, 14]    [32, 160, 14, 14]    397,800              True\n",
       "│    │    └─MBConv (5)                                       [32, 160, 14, 14]    [32, 160, 14, 14]    397,800              True\n",
       "│    │    └─MBConv (6)                                       [32, 160, 14, 14]    [32, 160, 14, 14]    397,800              True\n",
       "│    │    └─MBConv (7)                                       [32, 160, 14, 14]    [32, 160, 14, 14]    397,800              True\n",
       "│    │    └─MBConv (8)                                       [32, 160, 14, 14]    [32, 160, 14, 14]    397,800              True\n",
       "│    └─Sequential (6)                                        [32, 160, 14, 14]    [32, 256, 7, 7]      --                   True\n",
       "│    │    └─MBConv (0)                                       [32, 160, 14, 14]    [32, 256, 7, 7]      490,152              True\n",
       "│    │    └─MBConv (1)                                       [32, 256, 7, 7]      [32, 256, 7, 7]      1,005,120            True\n",
       "│    │    └─MBConv (2)                                       [32, 256, 7, 7]      [32, 256, 7, 7]      1,005,120            True\n",
       "│    │    └─MBConv (3)                                       [32, 256, 7, 7]      [32, 256, 7, 7]      1,005,120            True\n",
       "│    │    └─MBConv (4)                                       [32, 256, 7, 7]      [32, 256, 7, 7]      1,005,120            True\n",
       "│    │    └─MBConv (5)                                       [32, 256, 7, 7]      [32, 256, 7, 7]      1,005,120            True\n",
       "│    │    └─MBConv (6)                                       [32, 256, 7, 7]      [32, 256, 7, 7]      1,005,120            True\n",
       "│    │    └─MBConv (7)                                       [32, 256, 7, 7]      [32, 256, 7, 7]      1,005,120            True\n",
       "│    │    └─MBConv (8)                                       [32, 256, 7, 7]      [32, 256, 7, 7]      1,005,120            True\n",
       "│    │    └─MBConv (9)                                       [32, 256, 7, 7]      [32, 256, 7, 7]      1,005,120            True\n",
       "│    │    └─MBConv (10)                                      [32, 256, 7, 7]      [32, 256, 7, 7]      1,005,120            True\n",
       "│    │    └─MBConv (11)                                      [32, 256, 7, 7]      [32, 256, 7, 7]      1,005,120            True\n",
       "│    │    └─MBConv (12)                                      [32, 256, 7, 7]      [32, 256, 7, 7]      1,005,120            True\n",
       "│    │    └─MBConv (13)                                      [32, 256, 7, 7]      [32, 256, 7, 7]      1,005,120            True\n",
       "│    │    └─MBConv (14)                                      [32, 256, 7, 7]      [32, 256, 7, 7]      1,005,120            True\n",
       "│    └─Conv2dNormActivation (7)                              [32, 256, 7, 7]      [32, 1280, 7, 7]     --                   True\n",
       "│    │    └─Conv2d (0)                                       [32, 256, 7, 7]      [32, 1280, 7, 7]     327,680              True\n",
       "│    │    └─BatchNorm2d (1)                                  [32, 1280, 7, 7]     [32, 1280, 7, 7]     2,560                True\n",
       "│    │    └─SiLU (2)                                         [32, 1280, 7, 7]     [32, 1280, 7, 7]     --                   --\n",
       "├─AdaptiveAvgPool2d (avgpool)                                [32, 1280, 7, 7]     [32, 1280, 1, 1]     --                   --\n",
       "├─Sequential (classifier)                                    [32, 1280]           [32, 1000]           --                   True\n",
       "│    └─Dropout (0)                                           [32, 1280]           [32, 1280]           --                   --\n",
       "│    └─Linear (1)                                            [32, 1280]           [32, 1000]           1,281,000            True\n",
       "============================================================================================================================================\n",
       "Total params: 21,458,488\n",
       "Trainable params: 21,458,488\n",
       "Non-trainable params: 0\n",
       "Total mult-adds (G): 91.20\n",
       "============================================================================================================================================\n",
       "Input size (MB): 19.27\n",
       "Forward/backward pass size (MB): 6234.30\n",
       "Params size (MB): 85.83\n",
       "Estimated Total Size (MB): 6339.40\n",
       "============================================================================================================================================"
      ]
     },
     "execution_count": 19,
     "metadata": {},
     "output_type": "execute_result"
    }
   ],
   "source": [
    "import torchinfo\n",
    "\n",
    "torchinfo.summary(model=model, \n",
    "        input_size=(32, 3, 224, 224), # make sure this is \"input_size\", not \"input_shape\"\n",
    "        # col_names=[\"input_size\"], # uncomment for smaller output\n",
    "        col_names=[\"input_size\", \"output_size\", \"num_params\", \"trainable\"],\n",
    "        col_width=20,\n",
    "        row_settings=[\"var_names\"]\n",
    ")"
   ]
  },
  {
   "cell_type": "code",
   "execution_count": 20,
   "id": "5a07328d",
   "metadata": {
    "execution": {
     "iopub.execute_input": "2024-04-30T14:21:39.018537Z",
     "iopub.status.busy": "2024-04-30T14:21:39.018226Z",
     "iopub.status.idle": "2024-04-30T14:21:39.025313Z",
     "shell.execute_reply": "2024-04-30T14:21:39.024455Z"
    },
    "papermill": {
     "duration": 0.028101,
     "end_time": "2024-04-30T14:21:39.027193",
     "exception": false,
     "start_time": "2024-04-30T14:21:38.999092",
     "status": "completed"
    },
    "tags": []
   },
   "outputs": [],
   "source": [
    "#Freeze all layers\n",
    "for param in model.features.parameters():\n",
    "    param.requires_grad = False"
   ]
  },
  {
   "cell_type": "code",
   "execution_count": 21,
   "id": "28ec91ea",
   "metadata": {
    "execution": {
     "iopub.execute_input": "2024-04-30T14:21:39.064664Z",
     "iopub.status.busy": "2024-04-30T14:21:39.064384Z",
     "iopub.status.idle": "2024-04-30T14:21:39.069842Z",
     "shell.execute_reply": "2024-04-30T14:21:39.069147Z"
    },
    "papermill": {
     "duration": 0.026523,
     "end_time": "2024-04-30T14:21:39.071709",
     "exception": false,
     "start_time": "2024-04-30T14:21:39.045186",
     "status": "completed"
    },
    "tags": []
   },
   "outputs": [],
   "source": [
    "#Substitute last layer for my specific binary classification model\n",
    "model.classifier = torch.nn.Sequential(\n",
    "    torch.nn.Dropout(p=0.2, inplace=True), \n",
    "    torch.nn.Linear(in_features=1280, \n",
    "                    out_features=1, # same number of output units as our number of classes\n",
    "                    bias=True)).to(device)"
   ]
  },
  {
   "cell_type": "code",
   "execution_count": 22,
   "id": "ed250319",
   "metadata": {
    "execution": {
     "iopub.execute_input": "2024-04-30T14:21:39.151154Z",
     "iopub.status.busy": "2024-04-30T14:21:39.150626Z",
     "iopub.status.idle": "2024-04-30T14:21:39.436918Z",
     "shell.execute_reply": "2024-04-30T14:21:39.436024Z"
    },
    "papermill": {
     "duration": 0.349975,
     "end_time": "2024-04-30T14:21:39.439298",
     "exception": false,
     "start_time": "2024-04-30T14:21:39.089323",
     "status": "completed"
    },
    "tags": []
   },
   "outputs": [
    {
     "data": {
      "text/plain": [
       "============================================================================================================================================\n",
       "Layer (type (var_name))                                      Input Shape          Output Shape         Param #              Trainable\n",
       "============================================================================================================================================\n",
       "EfficientNet (EfficientNet)                                  [32, 3, 224, 224]    [32, 1]              --                   Partial\n",
       "├─Sequential (features)                                      [32, 3, 224, 224]    [32, 1280, 7, 7]     --                   False\n",
       "│    └─Conv2dNormActivation (0)                              [32, 3, 224, 224]    [32, 24, 112, 112]   --                   False\n",
       "│    │    └─Conv2d (0)                                       [32, 3, 224, 224]    [32, 24, 112, 112]   (648)                False\n",
       "│    │    └─BatchNorm2d (1)                                  [32, 24, 112, 112]   [32, 24, 112, 112]   (48)                 False\n",
       "│    │    └─SiLU (2)                                         [32, 24, 112, 112]   [32, 24, 112, 112]   --                   --\n",
       "│    └─Sequential (1)                                        [32, 24, 112, 112]   [32, 24, 112, 112]   --                   False\n",
       "│    │    └─FusedMBConv (0)                                  [32, 24, 112, 112]   [32, 24, 112, 112]   (5,232)              False\n",
       "│    │    └─FusedMBConv (1)                                  [32, 24, 112, 112]   [32, 24, 112, 112]   (5,232)              False\n",
       "│    └─Sequential (2)                                        [32, 24, 112, 112]   [32, 48, 56, 56]     --                   False\n",
       "│    │    └─FusedMBConv (0)                                  [32, 24, 112, 112]   [32, 48, 56, 56]     (25,632)             False\n",
       "│    │    └─FusedMBConv (1)                                  [32, 48, 56, 56]     [32, 48, 56, 56]     (92,640)             False\n",
       "│    │    └─FusedMBConv (2)                                  [32, 48, 56, 56]     [32, 48, 56, 56]     (92,640)             False\n",
       "│    │    └─FusedMBConv (3)                                  [32, 48, 56, 56]     [32, 48, 56, 56]     (92,640)             False\n",
       "│    └─Sequential (3)                                        [32, 48, 56, 56]     [32, 64, 28, 28]     --                   False\n",
       "│    │    └─FusedMBConv (0)                                  [32, 48, 56, 56]     [32, 64, 28, 28]     (95,744)             False\n",
       "│    │    └─FusedMBConv (1)                                  [32, 64, 28, 28]     [32, 64, 28, 28]     (164,480)            False\n",
       "│    │    └─FusedMBConv (2)                                  [32, 64, 28, 28]     [32, 64, 28, 28]     (164,480)            False\n",
       "│    │    └─FusedMBConv (3)                                  [32, 64, 28, 28]     [32, 64, 28, 28]     (164,480)            False\n",
       "│    └─Sequential (4)                                        [32, 64, 28, 28]     [32, 128, 14, 14]    --                   False\n",
       "│    │    └─MBConv (0)                                       [32, 64, 28, 28]     [32, 128, 14, 14]    (61,200)             False\n",
       "│    │    └─MBConv (1)                                       [32, 128, 14, 14]    [32, 128, 14, 14]    (171,296)            False\n",
       "│    │    └─MBConv (2)                                       [32, 128, 14, 14]    [32, 128, 14, 14]    (171,296)            False\n",
       "│    │    └─MBConv (3)                                       [32, 128, 14, 14]    [32, 128, 14, 14]    (171,296)            False\n",
       "│    │    └─MBConv (4)                                       [32, 128, 14, 14]    [32, 128, 14, 14]    (171,296)            False\n",
       "│    │    └─MBConv (5)                                       [32, 128, 14, 14]    [32, 128, 14, 14]    (171,296)            False\n",
       "│    └─Sequential (5)                                        [32, 128, 14, 14]    [32, 160, 14, 14]    --                   False\n",
       "│    │    └─MBConv (0)                                       [32, 128, 14, 14]    [32, 160, 14, 14]    (281,440)            False\n",
       "│    │    └─MBConv (1)                                       [32, 160, 14, 14]    [32, 160, 14, 14]    (397,800)            False\n",
       "│    │    └─MBConv (2)                                       [32, 160, 14, 14]    [32, 160, 14, 14]    (397,800)            False\n",
       "│    │    └─MBConv (3)                                       [32, 160, 14, 14]    [32, 160, 14, 14]    (397,800)            False\n",
       "│    │    └─MBConv (4)                                       [32, 160, 14, 14]    [32, 160, 14, 14]    (397,800)            False\n",
       "│    │    └─MBConv (5)                                       [32, 160, 14, 14]    [32, 160, 14, 14]    (397,800)            False\n",
       "│    │    └─MBConv (6)                                       [32, 160, 14, 14]    [32, 160, 14, 14]    (397,800)            False\n",
       "│    │    └─MBConv (7)                                       [32, 160, 14, 14]    [32, 160, 14, 14]    (397,800)            False\n",
       "│    │    └─MBConv (8)                                       [32, 160, 14, 14]    [32, 160, 14, 14]    (397,800)            False\n",
       "│    └─Sequential (6)                                        [32, 160, 14, 14]    [32, 256, 7, 7]      --                   False\n",
       "│    │    └─MBConv (0)                                       [32, 160, 14, 14]    [32, 256, 7, 7]      (490,152)            False\n",
       "│    │    └─MBConv (1)                                       [32, 256, 7, 7]      [32, 256, 7, 7]      (1,005,120)          False\n",
       "│    │    └─MBConv (2)                                       [32, 256, 7, 7]      [32, 256, 7, 7]      (1,005,120)          False\n",
       "│    │    └─MBConv (3)                                       [32, 256, 7, 7]      [32, 256, 7, 7]      (1,005,120)          False\n",
       "│    │    └─MBConv (4)                                       [32, 256, 7, 7]      [32, 256, 7, 7]      (1,005,120)          False\n",
       "│    │    └─MBConv (5)                                       [32, 256, 7, 7]      [32, 256, 7, 7]      (1,005,120)          False\n",
       "│    │    └─MBConv (6)                                       [32, 256, 7, 7]      [32, 256, 7, 7]      (1,005,120)          False\n",
       "│    │    └─MBConv (7)                                       [32, 256, 7, 7]      [32, 256, 7, 7]      (1,005,120)          False\n",
       "│    │    └─MBConv (8)                                       [32, 256, 7, 7]      [32, 256, 7, 7]      (1,005,120)          False\n",
       "│    │    └─MBConv (9)                                       [32, 256, 7, 7]      [32, 256, 7, 7]      (1,005,120)          False\n",
       "│    │    └─MBConv (10)                                      [32, 256, 7, 7]      [32, 256, 7, 7]      (1,005,120)          False\n",
       "│    │    └─MBConv (11)                                      [32, 256, 7, 7]      [32, 256, 7, 7]      (1,005,120)          False\n",
       "│    │    └─MBConv (12)                                      [32, 256, 7, 7]      [32, 256, 7, 7]      (1,005,120)          False\n",
       "│    │    └─MBConv (13)                                      [32, 256, 7, 7]      [32, 256, 7, 7]      (1,005,120)          False\n",
       "│    │    └─MBConv (14)                                      [32, 256, 7, 7]      [32, 256, 7, 7]      (1,005,120)          False\n",
       "│    └─Conv2dNormActivation (7)                              [32, 256, 7, 7]      [32, 1280, 7, 7]     --                   False\n",
       "│    │    └─Conv2d (0)                                       [32, 256, 7, 7]      [32, 1280, 7, 7]     (327,680)            False\n",
       "│    │    └─BatchNorm2d (1)                                  [32, 1280, 7, 7]     [32, 1280, 7, 7]     (2,560)              False\n",
       "│    │    └─SiLU (2)                                         [32, 1280, 7, 7]     [32, 1280, 7, 7]     --                   --\n",
       "├─AdaptiveAvgPool2d (avgpool)                                [32, 1280, 7, 7]     [32, 1280, 1, 1]     --                   --\n",
       "├─Sequential (classifier)                                    [32, 1280]           [32, 1]              --                   True\n",
       "│    └─Dropout (0)                                           [32, 1280]           [32, 1280]           --                   --\n",
       "│    └─Linear (1)                                            [32, 1280]           [32, 1]              1,281                True\n",
       "============================================================================================================================================\n",
       "Total params: 20,178,769\n",
       "Trainable params: 1,281\n",
       "Non-trainable params: 20,177,488\n",
       "Total mult-adds (G): 91.16\n",
       "============================================================================================================================================\n",
       "Input size (MB): 19.27\n",
       "Forward/backward pass size (MB): 6234.04\n",
       "Params size (MB): 80.72\n",
       "Estimated Total Size (MB): 6334.03\n",
       "============================================================================================================================================"
      ]
     },
     "execution_count": 22,
     "metadata": {},
     "output_type": "execute_result"
    }
   ],
   "source": [
    "torchinfo.summary(model=model, \n",
    "        input_size=(32, 3, 224, 224), # make sure this is \"input_size\", not \"input_shape\"\n",
    "        # col_names=[\"input_size\"], # uncomment for smaller output\n",
    "        col_names=[\"input_size\", \"output_size\", \"num_params\", \"trainable\"],\n",
    "        col_width=20,\n",
    "        row_settings=[\"var_names\"]\n",
    ")"
   ]
  },
  {
   "cell_type": "code",
   "execution_count": 23,
   "id": "1b22bb94",
   "metadata": {
    "execution": {
     "iopub.execute_input": "2024-04-30T14:21:39.478709Z",
     "iopub.status.busy": "2024-04-30T14:21:39.478376Z",
     "iopub.status.idle": "2024-04-30T14:21:39.482425Z",
     "shell.execute_reply": "2024-04-30T14:21:39.481537Z"
    },
    "papermill": {
     "duration": 0.026406,
     "end_time": "2024-04-30T14:21:39.484445",
     "exception": false,
     "start_time": "2024-04-30T14:21:39.458039",
     "status": "completed"
    },
    "tags": []
   },
   "outputs": [],
   "source": [
    "#pip install torch-lr-finder\n"
   ]
  },
  {
   "cell_type": "code",
   "execution_count": 24,
   "id": "a792f2aa",
   "metadata": {
    "execution": {
     "iopub.execute_input": "2024-04-30T14:21:39.523105Z",
     "iopub.status.busy": "2024-04-30T14:21:39.522759Z",
     "iopub.status.idle": "2024-04-30T14:21:39.526598Z",
     "shell.execute_reply": "2024-04-30T14:21:39.525790Z"
    },
    "papermill": {
     "duration": 0.025299,
     "end_time": "2024-04-30T14:21:39.528499",
     "exception": false,
     "start_time": "2024-04-30T14:21:39.503200",
     "status": "completed"
    },
    "tags": []
   },
   "outputs": [],
   "source": [
    "#from torch_lr_finder import LRFinder\n"
   ]
  },
  {
   "cell_type": "code",
   "execution_count": 25,
   "id": "afbb76ac",
   "metadata": {
    "execution": {
     "iopub.execute_input": "2024-04-30T14:21:39.567544Z",
     "iopub.status.busy": "2024-04-30T14:21:39.566869Z",
     "iopub.status.idle": "2024-04-30T14:21:39.574638Z",
     "shell.execute_reply": "2024-04-30T14:21:39.573957Z"
    },
    "papermill": {
     "duration": 0.029198,
     "end_time": "2024-04-30T14:21:39.576573",
     "exception": false,
     "start_time": "2024-04-30T14:21:39.547375",
     "status": "completed"
    },
    "tags": []
   },
   "outputs": [],
   "source": [
    "loss_fn = nn.BCELoss()\n",
    "optimizer = torch.optim.SGD(model.parameters(), lr= 0.01)\n",
    "\n",
    "##TO DO: Implement one-cycle learning rate scheduler "
   ]
  },
  {
   "cell_type": "code",
   "execution_count": 26,
   "id": "1cf6b48c",
   "metadata": {
    "execution": {
     "iopub.execute_input": "2024-04-30T14:21:39.613235Z",
     "iopub.status.busy": "2024-04-30T14:21:39.612622Z",
     "iopub.status.idle": "2024-04-30T14:21:39.616221Z",
     "shell.execute_reply": "2024-04-30T14:21:39.615380Z"
    },
    "papermill": {
     "duration": 0.023789,
     "end_time": "2024-04-30T14:21:39.618040",
     "exception": false,
     "start_time": "2024-04-30T14:21:39.594251",
     "status": "completed"
    },
    "tags": []
   },
   "outputs": [],
   "source": [
    "#lr_finder = LRFinder(model, optimizer, loss_fn, device=device)\n",
    "#lr_finder.range_test(train_dataloader, end_lr=100, num_iter=100)\n",
    "#lr_finder.plot() # to inspect the loss-learning rate graph\n",
    "#lr_finder.reset() # to reset the model and optimizer to their initial state"
   ]
  },
  {
   "cell_type": "code",
   "execution_count": 27,
   "id": "9e0f1c47",
   "metadata": {
    "execution": {
     "iopub.execute_input": "2024-04-30T14:21:39.656112Z",
     "iopub.status.busy": "2024-04-30T14:21:39.655328Z",
     "iopub.status.idle": "2024-04-30T14:21:39.664793Z",
     "shell.execute_reply": "2024-04-30T14:21:39.663996Z"
    },
    "papermill": {
     "duration": 0.030919,
     "end_time": "2024-04-30T14:21:39.666718",
     "exception": false,
     "start_time": "2024-04-30T14:21:39.635799",
     "status": "completed"
    },
    "tags": []
   },
   "outputs": [],
   "source": [
    "from tqdm.auto import tqdm\n",
    "from typing import Dict, List, Tuple\n",
    "\n",
    "def train_step(model: torch.nn.Module, \n",
    "               dataloader: torch.utils.data.DataLoader, \n",
    "               loss_fn: torch.nn.Module, \n",
    "               optimizer: torch.optim.Optimizer,\n",
    "               device: torch.device) -> Tuple[float, float]:\n",
    "    \n",
    "    model.train()\n",
    "\n",
    "    # Setup train loss and train accuracy values\n",
    "    metric = BinaryAUROC()\n",
    "\n",
    "    train_loss, train_auc = 0, 0\n",
    "    \n",
    "    for batch, (X, y) in enumerate(dataloader):\n",
    "        # Send data to target device\n",
    "        X, y = X.to(device), y.to(device, dtype = torch.float)\n",
    "\n",
    "        # 1. Forward pass\n",
    "        y_pred = model(X)\n",
    "        \n",
    "        y_pred_2 = torch.sigmoid(y_pred)\n",
    "\n",
    "        # 2. Calculate  and accumulate loss\n",
    "        loss = loss_fn(y_pred_2.squeeze(), y)\n",
    "        train_loss += loss.item() \n",
    "\n",
    "        # 3. Optimizer zero grad\n",
    "        optimizer.zero_grad()\n",
    "\n",
    "        # 4. Loss backward\n",
    "        loss.backward()\n",
    "\n",
    "        # 5. Optimizer step\n",
    "        optimizer.step()\n",
    "\n",
    "        # Calculate and accumulate accuracy metric across all batches\n",
    "        y_pred_class = torch.round(torch.sigmoid(y_pred))\n",
    "        \n",
    "        metric.update(y_pred_2.squeeze(), y)\n",
    "        i = metric.compute()\n",
    "        i.item()\n",
    "        train_auc += i\n",
    "\n",
    "    # Adjust metrics to get average loss and accuracy per batch \n",
    "    train_loss = train_loss / len(dataloader)\n",
    "    train_auc = train_auc / len(dataloader)\n",
    "    return train_loss, train_auc"
   ]
  },
  {
   "cell_type": "code",
   "execution_count": 28,
   "id": "89b6c811",
   "metadata": {
    "execution": {
     "iopub.execute_input": "2024-04-30T14:21:39.704212Z",
     "iopub.status.busy": "2024-04-30T14:21:39.703525Z",
     "iopub.status.idle": "2024-04-30T14:21:39.712065Z",
     "shell.execute_reply": "2024-04-30T14:21:39.711134Z"
    },
    "papermill": {
     "duration": 0.029178,
     "end_time": "2024-04-30T14:21:39.713940",
     "exception": false,
     "start_time": "2024-04-30T14:21:39.684762",
     "status": "completed"
    },
    "tags": []
   },
   "outputs": [],
   "source": [
    "def test_step(model: torch.nn.Module, \n",
    "              dataloader: torch.utils.data.DataLoader, \n",
    "              loss_fn: torch.nn.Module,\n",
    "              device: torch.device) -> Tuple[float, float]:\n",
    "    \n",
    "    # Put model in eval mode\n",
    "    model.eval() \n",
    "\n",
    "    metric = BinaryAUROC()\n",
    "\n",
    "    # Setup test loss and test accuracy values\n",
    "    test_loss, test_auc = 0, 0\n",
    "\n",
    "    # Turn on inference context manager\n",
    "    with torch.inference_mode():\n",
    "        # Loop through DataLoader batches\n",
    "        for batch, (X, y) in enumerate(dataloader):\n",
    "            # Send data to target device\n",
    "            X, y = X.to(device), y.to(device, dtype = torch.float)\n",
    "\n",
    "            # 1. Forward pass\n",
    "            test_pred_logits = model(X)\n",
    "            \n",
    "            test_pred_logits_2 = torch.sigmoid(test_pred_logits)\n",
    "\n",
    "            # 2. Calculate and accumulate loss\n",
    "            loss = loss_fn(test_pred_logits_2.squeeze(), y)\n",
    "            test_loss += loss.item()\n",
    "\n",
    "            # Calculate and accumulate accuracy\n",
    "            test_pred_labels = torch.round(torch.sigmoid(test_pred_logits))\n",
    "            \n",
    "            metric.update(test_pred_logits_2.squeeze(), y)\n",
    "            i = metric.compute()\n",
    "            i.item()\n",
    "            test_auc += i\n",
    "\n",
    "    # Adjust metrics to get average loss and accuracy per batch \n",
    "    test_loss = test_loss / len(dataloader)\n",
    "    test_auc = test_auc / len(dataloader)\n",
    "    return test_loss, test_auc"
   ]
  },
  {
   "cell_type": "code",
   "execution_count": 29,
   "id": "ad954486",
   "metadata": {
    "execution": {
     "iopub.execute_input": "2024-04-30T14:21:39.751895Z",
     "iopub.status.busy": "2024-04-30T14:21:39.751633Z",
     "iopub.status.idle": "2024-04-30T14:21:39.759924Z",
     "shell.execute_reply": "2024-04-30T14:21:39.759144Z"
    },
    "papermill": {
     "duration": 0.029761,
     "end_time": "2024-04-30T14:21:39.761824",
     "exception": false,
     "start_time": "2024-04-30T14:21:39.732063",
     "status": "completed"
    },
    "tags": []
   },
   "outputs": [],
   "source": [
    "def train(model: torch.nn.Module, \n",
    "          train_dataloader: torch.utils.data.DataLoader, \n",
    "          test_dataloader: torch.utils.data.DataLoader, \n",
    "          optimizer: torch.optim.Optimizer,\n",
    "          loss_fn: torch.nn.Module,\n",
    "          epochs: int,\n",
    "          device: torch.device) -> Dict[str, List]:\n",
    "\n",
    "    # Create empty results dictionary\n",
    "    results = {\"train_loss\": [],\n",
    "        \"train_auc\": [],\n",
    "        \"test_loss\": [],\n",
    "        \"test_auc\": []\n",
    "    }\n",
    "\n",
    "  # Loop through training and testing steps for a number of epochs\n",
    "    for epoch in tqdm(range(epochs)):\n",
    "        train_loss, train_auc = train_step(model=model,\n",
    "                                          dataloader=train_dataloader,\n",
    "                                          loss_fn=loss_fn,\n",
    "                                          optimizer=optimizer,\n",
    "                                          device=device)\n",
    "        test_loss, test_auc = test_step(model=model,\n",
    "          dataloader=test_dataloader,\n",
    "          loss_fn=loss_fn,\n",
    "          device=device)\n",
    "\n",
    "        # Print out what's happening\n",
    "        print(\n",
    "          f\"Epoch: {epoch+1} | \"\n",
    "          f\"train_loss: {train_loss:.4f} | \"\n",
    "          f\"train_auc: {train_auc:.4f} | \"\n",
    "          f\"test_loss: {test_loss:.4f} | \"\n",
    "          f\"test_auc: {test_auc:.4f}\"\n",
    "        )\n",
    "\n",
    "        # Update results dictionary\n",
    "        results[\"train_loss\"].append(train_loss)\n",
    "        results[\"train_auc\"].append(train_auc)\n",
    "        results[\"test_loss\"].append(test_loss)\n",
    "        results[\"test_auc\"].append(test_auc)\n",
    "\n",
    "    # Return the filled results at the end of the epochs\n",
    "    return results"
   ]
  },
  {
   "cell_type": "code",
   "execution_count": 30,
   "id": "6a811239",
   "metadata": {
    "execution": {
     "iopub.execute_input": "2024-04-30T14:21:39.798507Z",
     "iopub.status.busy": "2024-04-30T14:21:39.798241Z",
     "iopub.status.idle": "2024-04-30T14:25:41.879178Z",
     "shell.execute_reply": "2024-04-30T14:25:41.876618Z"
    },
    "papermill": {
     "duration": 242.127278,
     "end_time": "2024-04-30T14:25:41.906954",
     "exception": false,
     "start_time": "2024-04-30T14:21:39.779676",
     "status": "completed"
    },
    "tags": []
   },
   "outputs": [
    {
     "data": {
      "application/vnd.jupyter.widget-view+json": {
       "model_id": "b15b1181b0bb441d88dda966069e2512",
       "version_major": 2,
       "version_minor": 0
      },
      "text/plain": [
       "  0%|          | 0/1 [00:00<?, ?it/s]"
      ]
     },
     "metadata": {},
     "output_type": "display_data"
    },
    {
     "name": "stdout",
     "output_type": "stream",
     "text": [
      "Epoch: 1 | train_loss: 0.6356 | train_auc: 0.6514 | test_loss: 0.5645 | test_auc: 0.8786\n",
      "[INFO] Total training time: 242.073 seconds\n"
     ]
    }
   ],
   "source": [
    "from timeit import default_timer as timer \n",
    "start_time = timer()\n",
    "\n",
    "# Setup training and save the results\n",
    "\n",
    "results = train(model=model,\n",
    "            train_dataloader=train_dataloader,\n",
    "            test_dataloader=test_dataloader,\n",
    "            optimizer=optimizer,\n",
    "            loss_fn=loss_fn,\n",
    "            epochs=1,\n",
    "            device=device)\n",
    "\n",
    "# End the timer and print out how long it took\n",
    "end_time = timer()\n",
    "print(f\"[INFO] Total training time: {end_time-start_time:.3f} seconds\")"
   ]
  },
  {
   "cell_type": "code",
   "execution_count": 31,
   "id": "ddcc1c6e",
   "metadata": {
    "execution": {
     "iopub.execute_input": "2024-04-30T14:25:41.944399Z",
     "iopub.status.busy": "2024-04-30T14:25:41.944110Z",
     "iopub.status.idle": "2024-04-30T14:25:42.512065Z",
     "shell.execute_reply": "2024-04-30T14:25:42.510781Z"
    },
    "papermill": {
     "duration": 0.588185,
     "end_time": "2024-04-30T14:25:42.513575",
     "exception": true,
     "start_time": "2024-04-30T14:25:41.925390",
     "status": "failed"
    },
    "tags": []
   },
   "outputs": [
    {
     "ename": "RuntimeError",
     "evalue": "Parent directory /kaggle/working/models does not exist.",
     "output_type": "error",
     "traceback": [
      "\u001b[0;31m---------------------------------------------------------------------------\u001b[0m",
      "\u001b[0;31mRuntimeError\u001b[0m                              Traceback (most recent call last)",
      "Cell \u001b[0;32mIn[31], line 1\u001b[0m\n\u001b[0;32m----> 1\u001b[0m \u001b[43mtorch\u001b[49m\u001b[38;5;241;43m.\u001b[39;49m\u001b[43msave\u001b[49m\u001b[43m(\u001b[49m\u001b[43mobj\u001b[49m\u001b[38;5;241;43m=\u001b[39;49m\u001b[43mmodel\u001b[49m\u001b[38;5;241;43m.\u001b[39;49m\u001b[43mstate_dict\u001b[49m\u001b[43m(\u001b[49m\u001b[43m)\u001b[49m\u001b[43m,\u001b[49m\u001b[43m \u001b[49m\u001b[38;5;66;43;03m# only saving the state_dict() only saves the learned parameters\u001b[39;49;00m\n\u001b[1;32m      2\u001b[0m \u001b[43m           \u001b[49m\u001b[43mf\u001b[49m\u001b[38;5;241;43m=\u001b[39;49m\u001b[38;5;124;43m\"\u001b[39;49m\u001b[38;5;124;43m/kaggle/working/models/EffNet_Baseline.pth\u001b[39;49m\u001b[38;5;124;43m\"\u001b[39;49m\u001b[43m)\u001b[49m\n",
      "File \u001b[0;32m/opt/conda/lib/python3.10/site-packages/torch/serialization.py:618\u001b[0m, in \u001b[0;36msave\u001b[0;34m(obj, f, pickle_module, pickle_protocol, _use_new_zipfile_serialization, _disable_byteorder_record)\u001b[0m\n\u001b[1;32m    615\u001b[0m _check_save_filelike(f)\n\u001b[1;32m    617\u001b[0m \u001b[38;5;28;01mif\u001b[39;00m _use_new_zipfile_serialization:\n\u001b[0;32m--> 618\u001b[0m     \u001b[38;5;28;01mwith\u001b[39;00m \u001b[43m_open_zipfile_writer\u001b[49m\u001b[43m(\u001b[49m\u001b[43mf\u001b[49m\u001b[43m)\u001b[49m \u001b[38;5;28;01mas\u001b[39;00m opened_zipfile:\n\u001b[1;32m    619\u001b[0m         _save(obj, opened_zipfile, pickle_module, pickle_protocol, _disable_byteorder_record)\n\u001b[1;32m    620\u001b[0m         \u001b[38;5;28;01mreturn\u001b[39;00m\n",
      "File \u001b[0;32m/opt/conda/lib/python3.10/site-packages/torch/serialization.py:492\u001b[0m, in \u001b[0;36m_open_zipfile_writer\u001b[0;34m(name_or_buffer)\u001b[0m\n\u001b[1;32m    490\u001b[0m \u001b[38;5;28;01melse\u001b[39;00m:\n\u001b[1;32m    491\u001b[0m     container \u001b[38;5;241m=\u001b[39m _open_zipfile_writer_buffer\n\u001b[0;32m--> 492\u001b[0m \u001b[38;5;28;01mreturn\u001b[39;00m \u001b[43mcontainer\u001b[49m\u001b[43m(\u001b[49m\u001b[43mname_or_buffer\u001b[49m\u001b[43m)\u001b[49m\n",
      "File \u001b[0;32m/opt/conda/lib/python3.10/site-packages/torch/serialization.py:463\u001b[0m, in \u001b[0;36m_open_zipfile_writer_file.__init__\u001b[0;34m(self, name)\u001b[0m\n\u001b[1;32m    461\u001b[0m     \u001b[38;5;28msuper\u001b[39m()\u001b[38;5;241m.\u001b[39m\u001b[38;5;21m__init__\u001b[39m(torch\u001b[38;5;241m.\u001b[39m_C\u001b[38;5;241m.\u001b[39mPyTorchFileWriter(\u001b[38;5;28mself\u001b[39m\u001b[38;5;241m.\u001b[39mfile_stream))\n\u001b[1;32m    462\u001b[0m \u001b[38;5;28;01melse\u001b[39;00m:\n\u001b[0;32m--> 463\u001b[0m     \u001b[38;5;28msuper\u001b[39m()\u001b[38;5;241m.\u001b[39m\u001b[38;5;21m__init__\u001b[39m(\u001b[43mtorch\u001b[49m\u001b[38;5;241;43m.\u001b[39;49m\u001b[43m_C\u001b[49m\u001b[38;5;241;43m.\u001b[39;49m\u001b[43mPyTorchFileWriter\u001b[49m\u001b[43m(\u001b[49m\u001b[38;5;28;43mself\u001b[39;49m\u001b[38;5;241;43m.\u001b[39;49m\u001b[43mname\u001b[49m\u001b[43m)\u001b[49m)\n",
      "\u001b[0;31mRuntimeError\u001b[0m: Parent directory /kaggle/working/models does not exist."
     ]
    }
   ],
   "source": [
    "torch.save(obj=model.state_dict(), # only saving the state_dict() only saves the learned parameters\n",
    "           f=\"/kaggle/working/models/EffNet_Baseline.pth\")"
   ]
  },
  {
   "cell_type": "markdown",
   "id": "ceda33a4",
   "metadata": {
    "papermill": {
     "duration": null,
     "end_time": null,
     "exception": null,
     "start_time": null,
     "status": "pending"
    },
    "tags": []
   },
   "source": [
    "With no fine-tuning, the model already achieved a reasonable accuracy (AUC 0.84), using only 10% of the data"
   ]
  },
  {
   "cell_type": "markdown",
   "id": "43f7a391",
   "metadata": {
    "papermill": {
     "duration": null,
     "end_time": null,
     "exception": null,
     "start_time": null,
     "status": "pending"
    },
    "tags": []
   },
   "source": [
    "# Fine-Tuning"
   ]
  },
  {
   "cell_type": "code",
   "execution_count": null,
   "id": "95ee5836",
   "metadata": {
    "execution": {
     "iopub.execute_input": "2024-04-30T11:06:15.390607Z",
     "iopub.status.busy": "2024-04-30T11:06:15.390207Z",
     "iopub.status.idle": "2024-04-30T11:06:16.226807Z",
     "shell.execute_reply": "2024-04-30T11:06:16.225798Z",
     "shell.execute_reply.started": "2024-04-30T11:06:15.390574Z"
    },
    "papermill": {
     "duration": null,
     "end_time": null,
     "exception": null,
     "start_time": null,
     "status": "pending"
    },
    "tags": []
   },
   "outputs": [],
   "source": [
    "from pathlib import Path\n",
    "\n",
    "#MODEL_SAVE_PATH = Path(\"/kaggle/working/models/EffNet_Baseline.pth\")\n",
    "MODEL_SAVE_PATH = \"/kaggle/working/models/EffNet_Baseline.pth\"\n",
    "model = torchvision.models.efficientnet_v2_s(weights=weights).to(device)\n",
    "\n",
    "model.classifier = torch.nn.Sequential(\n",
    "    torch.nn.Dropout(p=0.2, inplace=True), \n",
    "    torch.nn.Linear(in_features=1280, \n",
    "                    out_features=1, # same number of output units as our number of classes\n",
    "                    bias=True)).to(device)\n",
    "\n",
    "model.load_state_dict(torch.load(f=MODEL_SAVE_PATH))\n",
    "#Unfreeze other layers \n",
    "for param in model.features.parameters():\n",
    "    param.requires_grad = True"
   ]
  },
  {
   "cell_type": "code",
   "execution_count": null,
   "id": "1a638d69",
   "metadata": {
    "execution": {
     "iopub.execute_input": "2024-04-30T11:06:17.880408Z",
     "iopub.status.busy": "2024-04-30T11:06:17.879383Z",
     "iopub.status.idle": "2024-04-30T11:06:18.133867Z",
     "shell.execute_reply": "2024-04-30T11:06:18.132994Z",
     "shell.execute_reply.started": "2024-04-30T11:06:17.880372Z"
    },
    "papermill": {
     "duration": null,
     "end_time": null,
     "exception": null,
     "start_time": null,
     "status": "pending"
    },
    "tags": []
   },
   "outputs": [],
   "source": [
    "torchinfo.summary(model=model, \n",
    "        input_size=(32, 3, 224, 224), # make sure this is \"input_size\", not \"input_shape\"\n",
    "        # col_names=[\"input_size\"], # uncomment for smaller output\n",
    "        col_names=[\"input_size\", \"output_size\", \"num_params\", \"trainable\"],\n",
    "        col_width=20,\n",
    "        row_settings=[\"var_names\"]\n",
    ")\n",
    "\n"
   ]
  },
  {
   "cell_type": "code",
   "execution_count": null,
   "id": "738495ad",
   "metadata": {
    "execution": {
     "iopub.execute_input": "2024-04-30T11:06:26.991922Z",
     "iopub.status.busy": "2024-04-30T11:06:26.991515Z",
     "iopub.status.idle": "2024-04-30T11:06:27.000357Z",
     "shell.execute_reply": "2024-04-30T11:06:26.999368Z",
     "shell.execute_reply.started": "2024-04-30T11:06:26.991893Z"
    },
    "papermill": {
     "duration": null,
     "end_time": null,
     "exception": null,
     "start_time": null,
     "status": "pending"
    },
    "tags": []
   },
   "outputs": [],
   "source": [
    "loss_fn = nn.BCELoss()\n",
    "optimizer = torch.optim.SGD(model.parameters(), lr= 0.01)"
   ]
  },
  {
   "cell_type": "code",
   "execution_count": null,
   "id": "3dc68bfb",
   "metadata": {
    "execution": {
     "iopub.execute_input": "2024-04-30T11:06:31.110711Z",
     "iopub.status.busy": "2024-04-30T11:06:31.110093Z",
     "iopub.status.idle": "2024-04-30T11:38:06.781321Z",
     "shell.execute_reply": "2024-04-30T11:38:06.780363Z",
     "shell.execute_reply.started": "2024-04-30T11:06:31.110678Z"
    },
    "papermill": {
     "duration": null,
     "end_time": null,
     "exception": null,
     "start_time": null,
     "status": "pending"
    },
    "tags": []
   },
   "outputs": [],
   "source": [
    "from timeit import default_timer as timer \n",
    "start_time = timer()\n",
    "\n",
    "# Setup training and save the results\n",
    "\n",
    "results_fine_tuning = train(model=model,\n",
    "            train_dataloader=train_dataloader,\n",
    "            test_dataloader=test_dataloader,\n",
    "            optimizer=optimizer,\n",
    "            loss_fn=loss_fn,\n",
    "            epochs=5,\n",
    "            device=device)\n",
    "\n",
    "# End the timer and print out how long it took\n",
    "end_time = timer()\n",
    "print(f\"[INFO] Total training time: {end_time-start_time:.3f} seconds\")"
   ]
  },
  {
   "cell_type": "code",
   "execution_count": null,
   "id": "50396cf6",
   "metadata": {
    "execution": {
     "iopub.execute_input": "2024-04-30T11:39:08.064836Z",
     "iopub.status.busy": "2024-04-30T11:39:08.064402Z",
     "iopub.status.idle": "2024-04-30T11:39:08.251192Z",
     "shell.execute_reply": "2024-04-30T11:39:08.250146Z",
     "shell.execute_reply.started": "2024-04-30T11:39:08.064806Z"
    },
    "papermill": {
     "duration": null,
     "end_time": null,
     "exception": null,
     "start_time": null,
     "status": "pending"
    },
    "tags": []
   },
   "outputs": [],
   "source": [
    "torch.save(obj=model.state_dict(), # only saving the state_dict() only saves the learned parameters\n",
    "           f=\"/kaggle/working/models/EffNet_FineTune_Naive.pth\")"
   ]
  },
  {
   "cell_type": "markdown",
   "id": "a2e6f043",
   "metadata": {
    "papermill": {
     "duration": null,
     "end_time": null,
     "exception": null,
     "start_time": null,
     "status": "pending"
    },
    "tags": []
   },
   "source": [
    "## Fine Tuning with Discriminative Learning Rate"
   ]
  },
  {
   "cell_type": "code",
   "execution_count": null,
   "id": "a989bb50",
   "metadata": {
    "execution": {
     "iopub.execute_input": "2024-04-30T12:28:35.584445Z",
     "iopub.status.busy": "2024-04-30T12:28:35.583638Z",
     "iopub.status.idle": "2024-04-30T12:28:36.479287Z",
     "shell.execute_reply": "2024-04-30T12:28:36.478249Z",
     "shell.execute_reply.started": "2024-04-30T12:28:35.584405Z"
    },
    "papermill": {
     "duration": null,
     "end_time": null,
     "exception": null,
     "start_time": null,
     "status": "pending"
    },
    "tags": []
   },
   "outputs": [],
   "source": [
    "MODEL_SAVE_PATH = \"/kaggle/working/models/EffNet_Baseline.pth\"\n",
    "model = torchvision.models.efficientnet_v2_s(weights=weights).to(device)\n",
    "\n",
    "model.classifier = torch.nn.Sequential(\n",
    "    torch.nn.Dropout(p=0.2, inplace=True), \n",
    "    torch.nn.Linear(in_features=1280, \n",
    "                    out_features=1, # same number of output units as our number of classes\n",
    "                    bias=True)).to(device)\n",
    "\n",
    "model.load_state_dict(torch.load(f=MODEL_SAVE_PATH))\n",
    "#Unfreeze other layers \n",
    "for param in model.features.parameters():\n",
    "    param.requires_grad = True"
   ]
  },
  {
   "cell_type": "code",
   "execution_count": null,
   "id": "fcc4c9e3",
   "metadata": {
    "execution": {
     "iopub.execute_input": "2024-04-30T12:28:41.308135Z",
     "iopub.status.busy": "2024-04-30T12:28:41.307246Z",
     "iopub.status.idle": "2024-04-30T12:28:41.578989Z",
     "shell.execute_reply": "2024-04-30T12:28:41.577913Z",
     "shell.execute_reply.started": "2024-04-30T12:28:41.308099Z"
    },
    "papermill": {
     "duration": null,
     "end_time": null,
     "exception": null,
     "start_time": null,
     "status": "pending"
    },
    "tags": []
   },
   "outputs": [],
   "source": [
    "torchinfo.summary(model=model, \n",
    "        input_size=(32, 3, 224, 224), # make sure this is \"input_size\", not \"input_shape\"\n",
    "        # col_names=[\"input_size\"], # uncomment for smaller output\n",
    "        col_names=[\"input_size\", \"output_size\", \"num_params\", \"trainable\"],\n",
    "        col_width=20,\n",
    "        row_settings=[\"var_names\"]\n",
    ")"
   ]
  },
  {
   "cell_type": "code",
   "execution_count": null,
   "id": "516f2ea7",
   "metadata": {
    "execution": {
     "iopub.execute_input": "2024-04-30T12:28:47.515279Z",
     "iopub.status.busy": "2024-04-30T12:28:47.514933Z",
     "iopub.status.idle": "2024-04-30T12:28:47.524123Z",
     "shell.execute_reply": "2024-04-30T12:28:47.522922Z",
     "shell.execute_reply.started": "2024-04-30T12:28:47.515255Z"
    },
    "papermill": {
     "duration": null,
     "end_time": null,
     "exception": null,
     "start_time": null,
     "status": "pending"
    },
    "tags": []
   },
   "outputs": [],
   "source": [
    "def discriminative_lr_generator(model: nn.Module, max_lr: float, mult: float) -> List[Dict[nn.Module.parameters, float]]:\n",
    "    layer_names = []\n",
    "    for idx, (name, param) in enumerate(model.named_parameters()):\n",
    "        layer_names.append(name)\n",
    "        \n",
    "    layer_names.reverse()\n",
    "        \n",
    "    lr      = max_lr\n",
    "    lr_mult = mult\n",
    "\n",
    "    # placeholder\n",
    "    parameters      = []\n",
    "    prev_group_name = layer_names[0].split('.')[1]\n",
    "\n",
    "    # store params & learning rates\n",
    "    for idx, name in enumerate(layer_names):\n",
    "\n",
    "        # parameter group name\n",
    "        cur_group_name = name.split('.')[1]\n",
    "\n",
    "        # update learning rate\n",
    "        if cur_group_name != prev_group_name:\n",
    "            lr *= lr_mult\n",
    "        prev_group_name = cur_group_name\n",
    "\n",
    "        # display info\n",
    "        print(f'{idx}: lr = {lr:.6f}, {name}')\n",
    "\n",
    "        # append layer parameters\n",
    "        parameters += [{'params': [p for n, p in model.named_parameters() if n == name and p.requires_grad],\n",
    "                        'lr':     lr}]\n",
    "        \n",
    "    return parameters\n"
   ]
  },
  {
   "cell_type": "code",
   "execution_count": null,
   "id": "f4ea229a",
   "metadata": {
    "execution": {
     "iopub.execute_input": "2024-04-30T12:29:31.011873Z",
     "iopub.status.busy": "2024-04-30T12:29:31.011473Z",
     "iopub.status.idle": "2024-04-30T12:29:32.175578Z",
     "shell.execute_reply": "2024-04-30T12:29:32.174677Z",
     "shell.execute_reply.started": "2024-04-30T12:29:31.011822Z"
    },
    "papermill": {
     "duration": null,
     "end_time": null,
     "exception": null,
     "start_time": null,
     "status": "pending"
    },
    "tags": []
   },
   "outputs": [],
   "source": [
    "parameters = discriminative_lr_generator(model,1e-2,0.5)\n"
   ]
  },
  {
   "cell_type": "code",
   "execution_count": null,
   "id": "02474e72",
   "metadata": {
    "execution": {
     "iopub.execute_input": "2024-04-30T12:29:40.645341Z",
     "iopub.status.busy": "2024-04-30T12:29:40.644339Z",
     "iopub.status.idle": "2024-04-30T12:29:40.726201Z",
     "shell.execute_reply": "2024-04-30T12:29:40.725447Z",
     "shell.execute_reply.started": "2024-04-30T12:29:40.645288Z"
    },
    "papermill": {
     "duration": null,
     "end_time": null,
     "exception": null,
     "start_time": null,
     "status": "pending"
    },
    "tags": []
   },
   "outputs": [],
   "source": [
    "loss_fn = nn.BCELoss()\n",
    "optimizer = torch.optim.SGD(parameters)"
   ]
  },
  {
   "cell_type": "code",
   "execution_count": null,
   "id": "3cbc1230",
   "metadata": {
    "execution": {
     "iopub.execute_input": "2024-04-30T12:29:45.839322Z",
     "iopub.status.busy": "2024-04-30T12:29:45.838315Z",
     "iopub.status.idle": "2024-04-30T12:59:35.240475Z",
     "shell.execute_reply": "2024-04-30T12:59:35.239493Z",
     "shell.execute_reply.started": "2024-04-30T12:29:45.839279Z"
    },
    "papermill": {
     "duration": null,
     "end_time": null,
     "exception": null,
     "start_time": null,
     "status": "pending"
    },
    "tags": []
   },
   "outputs": [],
   "source": [
    "from timeit import default_timer as timer \n",
    "start_time = timer()\n",
    "\n",
    "# Setup training and save the results\n",
    "\n",
    "results_fine_tuning = train(model=model,\n",
    "            train_dataloader=train_dataloader,\n",
    "            test_dataloader=test_dataloader,\n",
    "            optimizer=optimizer,\n",
    "            loss_fn=loss_fn,\n",
    "            epochs=5,\n",
    "            device=device)\n",
    "\n",
    "# End the timer and print out how long it took\n",
    "end_time = timer()\n",
    "print(f\"[INFO] Total training time: {end_time-start_time:.3f} seconds\")"
   ]
  },
  {
   "cell_type": "code",
   "execution_count": null,
   "id": "4b28e075",
   "metadata": {
    "execution": {
     "iopub.execute_input": "2024-04-30T13:00:34.372246Z",
     "iopub.status.busy": "2024-04-30T13:00:34.371892Z",
     "iopub.status.idle": "2024-04-30T13:00:34.567216Z",
     "shell.execute_reply": "2024-04-30T13:00:34.566159Z",
     "shell.execute_reply.started": "2024-04-30T13:00:34.372221Z"
    },
    "papermill": {
     "duration": null,
     "end_time": null,
     "exception": null,
     "start_time": null,
     "status": "pending"
    },
    "tags": []
   },
   "outputs": [],
   "source": [
    "torch.save(obj=model.state_dict(), # only saving the state_dict() only saves the learned parameters\n",
    "           f=\"/kaggle/working/models/EffNet_FineTune_Discriminative_Lr.pth\")"
   ]
  },
  {
   "cell_type": "markdown",
   "id": "cd10a2ae",
   "metadata": {
    "papermill": {
     "duration": null,
     "end_time": null,
     "exception": null,
     "start_time": null,
     "status": "pending"
    },
    "tags": []
   },
   "source": [
    "With fine-tuning, the model obtained excellent performances, but it seems to be slightly overfitting, as the training loss  continued the decreasing while the test loss plateaued. \n",
    "\n",
    "I can try to train with the rest of the dataset in order to improve the performance."
   ]
  },
  {
   "cell_type": "markdown",
   "id": "cf25eb9f",
   "metadata": {
    "papermill": {
     "duration": null,
     "end_time": null,
     "exception": null,
     "start_time": null,
     "status": "pending"
    },
    "tags": []
   },
   "source": [
    "## Test with 50% of data"
   ]
  },
  {
   "cell_type": "code",
   "execution_count": null,
   "id": "02fdbc73",
   "metadata": {
    "execution": {
     "iopub.execute_input": "2024-04-30T13:06:18.333160Z",
     "iopub.status.busy": "2024-04-30T13:06:18.332424Z",
     "iopub.status.idle": "2024-04-30T13:06:18.692740Z",
     "shell.execute_reply": "2024-04-30T13:06:18.691748Z",
     "shell.execute_reply.started": "2024-04-30T13:06:18.333125Z"
    },
    "papermill": {
     "duration": null,
     "end_time": null,
     "exception": null,
     "start_time": null,
     "status": "pending"
    },
    "tags": []
   },
   "outputs": [],
   "source": [
    "big_df, small_df = my_train_test_split(label_df, 0.9)\n",
    "\n",
    "train_df, test_df = my_train_test_split(small_df, 0.7)\n",
    "\n",
    "train_data = DatasetGenerator(competition_dir+\"train\",train_df, transform = auto_transforms)\n",
    "test_data = DatasetGenerator(competition_dir+\"train\",test_df, transform = auto_transforms)\n",
    "\n",
    "BATCH_SIZE = 32\n",
    "\n",
    "train_dataloader = DataLoader(dataset=train_data, # use custom created train Dataset\n",
    "                                     batch_size=BATCH_SIZE, # how many samples per batch?\n",
    "                                     num_workers=0, # how many subprocesses to use for data loading? (higher = more)\n",
    "                                     shuffle=True) # shuffle the data?\n",
    "\n",
    "test_dataloader = DataLoader(dataset=test_data, # use custom created test Dataset\n",
    "                                    batch_size=BATCH_SIZE, \n",
    "                                    num_workers=0, \n",
    "                                    shuffle=False) # don't usually need to shuffle testing data\n"
   ]
  },
  {
   "cell_type": "code",
   "execution_count": null,
   "id": "12560d70",
   "metadata": {
    "execution": {
     "iopub.execute_input": "2024-04-30T13:06:24.187871Z",
     "iopub.status.busy": "2024-04-30T13:06:24.187233Z",
     "iopub.status.idle": "2024-04-30T13:06:25.066931Z",
     "shell.execute_reply": "2024-04-30T13:06:25.065931Z",
     "shell.execute_reply.started": "2024-04-30T13:06:24.187839Z"
    },
    "papermill": {
     "duration": null,
     "end_time": null,
     "exception": null,
     "start_time": null,
     "status": "pending"
    },
    "tags": []
   },
   "outputs": [],
   "source": [
    "from pathlib import Path\n",
    "\n",
    "#MODEL_SAVE_PATH = Path(\"/kaggle/working/models/EffNet_Baseline.pth\")\n",
    "MODEL_SAVE_PATH = \"/kaggle/working/models/EffNet_Baseline.pth\"\n",
    "model = torchvision.models.efficientnet_v2_s(weights=weights).to(device)\n",
    "\n",
    "model.classifier = torch.nn.Sequential(\n",
    "    torch.nn.Dropout(p=0.2, inplace=True), \n",
    "    torch.nn.Linear(in_features=1280, \n",
    "                    out_features=1, # same number of output units as our number of classes\n",
    "                    bias=True)).to(device)\n",
    "\n",
    "model.load_state_dict(torch.load(f=MODEL_SAVE_PATH))\n",
    "#Unfreeze other layers \n",
    "for param in model.features.parameters():\n",
    "    param.requires_grad = True"
   ]
  },
  {
   "cell_type": "code",
   "execution_count": null,
   "id": "1da263d8",
   "metadata": {
    "execution": {
     "iopub.execute_input": "2024-04-30T13:06:28.192340Z",
     "iopub.status.busy": "2024-04-30T13:06:28.191518Z",
     "iopub.status.idle": "2024-04-30T13:06:28.464210Z",
     "shell.execute_reply": "2024-04-30T13:06:28.463234Z",
     "shell.execute_reply.started": "2024-04-30T13:06:28.192307Z"
    },
    "papermill": {
     "duration": null,
     "end_time": null,
     "exception": null,
     "start_time": null,
     "status": "pending"
    },
    "tags": []
   },
   "outputs": [],
   "source": [
    "torchinfo.summary(model=model, \n",
    "        input_size=(32, 3, 224, 224), # make sure this is \"input_size\", not \"input_shape\"\n",
    "        # col_names=[\"input_size\"], # uncomment for smaller output\n",
    "        col_names=[\"input_size\", \"output_size\", \"num_params\", \"trainable\"],\n",
    "        col_width=20,\n",
    "        row_settings=[\"var_names\"]\n",
    ")\n"
   ]
  },
  {
   "cell_type": "code",
   "execution_count": null,
   "id": "c31a54a7",
   "metadata": {
    "execution": {
     "iopub.execute_input": "2024-04-30T13:06:33.959485Z",
     "iopub.status.busy": "2024-04-30T13:06:33.959124Z",
     "iopub.status.idle": "2024-04-30T13:06:33.968271Z",
     "shell.execute_reply": "2024-04-30T13:06:33.967251Z",
     "shell.execute_reply.started": "2024-04-30T13:06:33.959457Z"
    },
    "papermill": {
     "duration": null,
     "end_time": null,
     "exception": null,
     "start_time": null,
     "status": "pending"
    },
    "tags": []
   },
   "outputs": [],
   "source": [
    "\n",
    "loss_fn = nn.BCELoss()\n",
    "optimizer = torch.optim.SGD(model.parameters(), lr= 0.01)"
   ]
  },
  {
   "cell_type": "code",
   "execution_count": null,
   "id": "29df7f26",
   "metadata": {
    "execution": {
     "iopub.execute_input": "2024-04-30T13:06:37.308283Z",
     "iopub.status.busy": "2024-04-30T13:06:37.307880Z",
     "iopub.status.idle": "2024-04-30T14:07:41.711256Z",
     "shell.execute_reply": "2024-04-30T14:07:41.710296Z",
     "shell.execute_reply.started": "2024-04-30T13:06:37.308255Z"
    },
    "papermill": {
     "duration": null,
     "end_time": null,
     "exception": null,
     "start_time": null,
     "status": "pending"
    },
    "tags": []
   },
   "outputs": [],
   "source": [
    "from timeit import default_timer as timer \n",
    "start_time = timer()\n",
    "\n",
    "# Setup training and save the results\n",
    "\n",
    "results_fine_tuning = train(model=model,\n",
    "            train_dataloader=train_dataloader,\n",
    "            test_dataloader=test_dataloader,\n",
    "            optimizer=optimizer,\n",
    "            loss_fn=loss_fn,\n",
    "            epochs=5,\n",
    "            device=device)\n",
    "\n",
    "# End the timer and print out how long it took\n",
    "end_time = timer()\n",
    "print(f\"[INFO] Total training time: {end_time-start_time:.3f} seconds\")"
   ]
  },
  {
   "cell_type": "code",
   "execution_count": null,
   "id": "12f75de5",
   "metadata": {
    "execution": {
     "iopub.execute_input": "2024-04-30T14:09:48.906995Z",
     "iopub.status.busy": "2024-04-30T14:09:48.906239Z",
     "iopub.status.idle": "2024-04-30T14:09:49.094042Z",
     "shell.execute_reply": "2024-04-30T14:09:49.093203Z",
     "shell.execute_reply.started": "2024-04-30T14:09:48.906954Z"
    },
    "papermill": {
     "duration": null,
     "end_time": null,
     "exception": null,
     "start_time": null,
     "status": "pending"
    },
    "tags": []
   },
   "outputs": [],
   "source": [
    "torch.save(obj=model.state_dict(), # only saving the state_dict() only saves the learned parameters\n",
    "           f=\"/kaggle/working/models/EffNet_FineTune_Naive_90pct.pth\")"
   ]
  },
  {
   "cell_type": "markdown",
   "id": "6f2c3b31",
   "metadata": {
    "papermill": {
     "duration": null,
     "end_time": null,
     "exception": null,
     "start_time": null,
     "status": "pending"
    },
    "tags": []
   },
   "source": [
    "### Test on testing dataset"
   ]
  },
  {
   "cell_type": "code",
   "execution_count": null,
   "id": "d3ac4104",
   "metadata": {
    "papermill": {
     "duration": null,
     "end_time": null,
     "exception": null,
     "start_time": null,
     "status": "pending"
    },
    "tags": []
   },
   "outputs": [],
   "source": []
  }
 ],
 "metadata": {
  "kaggle": {
   "accelerator": "nvidiaTeslaT4",
   "dataSources": [
    {
     "databundleVersionId": 862157,
     "sourceId": 11848,
     "sourceType": "competition"
    }
   ],
   "dockerImageVersionId": 30699,
   "isGpuEnabled": true,
   "isInternetEnabled": true,
   "language": "python",
   "sourceType": "notebook"
  },
  "kernelspec": {
   "display_name": "Python 3",
   "language": "python",
   "name": "python3"
  },
  "language_info": {
   "codemirror_mode": {
    "name": "ipython",
    "version": 3
   },
   "file_extension": ".py",
   "mimetype": "text/x-python",
   "name": "python",
   "nbconvert_exporter": "python",
   "pygments_lexer": "ipython3",
   "version": "3.10.13"
  },
  "papermill": {
   "default_parameters": {},
   "duration": 279.309377,
   "end_time": "2024-04-30T14:25:44.455199",
   "environment_variables": {},
   "exception": true,
   "input_path": "__notebook__.ipynb",
   "output_path": "__notebook__.ipynb",
   "parameters": {},
   "start_time": "2024-04-30T14:21:05.145822",
   "version": "2.5.0"
  },
  "widgets": {
   "application/vnd.jupyter.widget-state+json": {
    "state": {
     "003a2dacacf0490ea03ac7055e47b869": {
      "model_module": "@jupyter-widgets/base",
      "model_module_version": "1.2.0",
      "model_name": "LayoutModel",
      "state": {
       "_model_module": "@jupyter-widgets/base",
       "_model_module_version": "1.2.0",
       "_model_name": "LayoutModel",
       "_view_count": null,
       "_view_module": "@jupyter-widgets/base",
       "_view_module_version": "1.2.0",
       "_view_name": "LayoutView",
       "align_content": null,
       "align_items": null,
       "align_self": null,
       "border": null,
       "bottom": null,
       "display": null,
       "flex": null,
       "flex_flow": null,
       "grid_area": null,
       "grid_auto_columns": null,
       "grid_auto_flow": null,
       "grid_auto_rows": null,
       "grid_column": null,
       "grid_gap": null,
       "grid_row": null,
       "grid_template_areas": null,
       "grid_template_columns": null,
       "grid_template_rows": null,
       "height": null,
       "justify_content": null,
       "justify_items": null,
       "left": null,
       "margin": null,
       "max_height": null,
       "max_width": null,
       "min_height": null,
       "min_width": null,
       "object_fit": null,
       "object_position": null,
       "order": null,
       "overflow": null,
       "overflow_x": null,
       "overflow_y": null,
       "padding": null,
       "right": null,
       "top": null,
       "visibility": null,
       "width": null
      }
     },
     "08704eca09e748ca899e3a73edde6ea3": {
      "model_module": "@jupyter-widgets/base",
      "model_module_version": "1.2.0",
      "model_name": "LayoutModel",
      "state": {
       "_model_module": "@jupyter-widgets/base",
       "_model_module_version": "1.2.0",
       "_model_name": "LayoutModel",
       "_view_count": null,
       "_view_module": "@jupyter-widgets/base",
       "_view_module_version": "1.2.0",
       "_view_name": "LayoutView",
       "align_content": null,
       "align_items": null,
       "align_self": null,
       "border": null,
       "bottom": null,
       "display": null,
       "flex": null,
       "flex_flow": null,
       "grid_area": null,
       "grid_auto_columns": null,
       "grid_auto_flow": null,
       "grid_auto_rows": null,
       "grid_column": null,
       "grid_gap": null,
       "grid_row": null,
       "grid_template_areas": null,
       "grid_template_columns": null,
       "grid_template_rows": null,
       "height": null,
       "justify_content": null,
       "justify_items": null,
       "left": null,
       "margin": null,
       "max_height": null,
       "max_width": null,
       "min_height": null,
       "min_width": null,
       "object_fit": null,
       "object_position": null,
       "order": null,
       "overflow": null,
       "overflow_x": null,
       "overflow_y": null,
       "padding": null,
       "right": null,
       "top": null,
       "visibility": null,
       "width": null
      }
     },
     "1519462c66de4c6981f4b9a2d25ce557": {
      "model_module": "@jupyter-widgets/base",
      "model_module_version": "1.2.0",
      "model_name": "LayoutModel",
      "state": {
       "_model_module": "@jupyter-widgets/base",
       "_model_module_version": "1.2.0",
       "_model_name": "LayoutModel",
       "_view_count": null,
       "_view_module": "@jupyter-widgets/base",
       "_view_module_version": "1.2.0",
       "_view_name": "LayoutView",
       "align_content": null,
       "align_items": null,
       "align_self": null,
       "border": null,
       "bottom": null,
       "display": null,
       "flex": null,
       "flex_flow": null,
       "grid_area": null,
       "grid_auto_columns": null,
       "grid_auto_flow": null,
       "grid_auto_rows": null,
       "grid_column": null,
       "grid_gap": null,
       "grid_row": null,
       "grid_template_areas": null,
       "grid_template_columns": null,
       "grid_template_rows": null,
       "height": null,
       "justify_content": null,
       "justify_items": null,
       "left": null,
       "margin": null,
       "max_height": null,
       "max_width": null,
       "min_height": null,
       "min_width": null,
       "object_fit": null,
       "object_position": null,
       "order": null,
       "overflow": null,
       "overflow_x": null,
       "overflow_y": null,
       "padding": null,
       "right": null,
       "top": null,
       "visibility": null,
       "width": null
      }
     },
     "23185458618c46989f1c670c1e3876ec": {
      "model_module": "@jupyter-widgets/controls",
      "model_module_version": "1.5.0",
      "model_name": "DescriptionStyleModel",
      "state": {
       "_model_module": "@jupyter-widgets/controls",
       "_model_module_version": "1.5.0",
       "_model_name": "DescriptionStyleModel",
       "_view_count": null,
       "_view_module": "@jupyter-widgets/base",
       "_view_module_version": "1.2.0",
       "_view_name": "StyleView",
       "description_width": ""
      }
     },
     "32ddeaf30b964a5b86f5bf97c985f9a3": {
      "model_module": "@jupyter-widgets/controls",
      "model_module_version": "1.5.0",
      "model_name": "HTMLModel",
      "state": {
       "_dom_classes": [],
       "_model_module": "@jupyter-widgets/controls",
       "_model_module_version": "1.5.0",
       "_model_name": "HTMLModel",
       "_view_count": null,
       "_view_module": "@jupyter-widgets/controls",
       "_view_module_version": "1.5.0",
       "_view_name": "HTMLView",
       "description": "",
       "description_tooltip": null,
       "layout": "IPY_MODEL_08704eca09e748ca899e3a73edde6ea3",
       "placeholder": "​",
       "style": "IPY_MODEL_23185458618c46989f1c670c1e3876ec",
       "value": "100%"
      }
     },
     "43ecee7e60ca4ffa9ffd9332f1d69d65": {
      "model_module": "@jupyter-widgets/controls",
      "model_module_version": "1.5.0",
      "model_name": "DescriptionStyleModel",
      "state": {
       "_model_module": "@jupyter-widgets/controls",
       "_model_module_version": "1.5.0",
       "_model_name": "DescriptionStyleModel",
       "_view_count": null,
       "_view_module": "@jupyter-widgets/base",
       "_view_module_version": "1.2.0",
       "_view_name": "StyleView",
       "description_width": ""
      }
     },
     "4c0961c4f9a045aab5365832841ed0f8": {
      "model_module": "@jupyter-widgets/controls",
      "model_module_version": "1.5.0",
      "model_name": "ProgressStyleModel",
      "state": {
       "_model_module": "@jupyter-widgets/controls",
       "_model_module_version": "1.5.0",
       "_model_name": "ProgressStyleModel",
       "_view_count": null,
       "_view_module": "@jupyter-widgets/base",
       "_view_module_version": "1.2.0",
       "_view_name": "StyleView",
       "bar_color": null,
       "description_width": ""
      }
     },
     "580c118a34c946a2853cd05b64899515": {
      "model_module": "@jupyter-widgets/controls",
      "model_module_version": "1.5.0",
      "model_name": "HTMLModel",
      "state": {
       "_dom_classes": [],
       "_model_module": "@jupyter-widgets/controls",
       "_model_module_version": "1.5.0",
       "_model_name": "HTMLModel",
       "_view_count": null,
       "_view_module": "@jupyter-widgets/controls",
       "_view_module_version": "1.5.0",
       "_view_name": "HTMLView",
       "description": "",
       "description_tooltip": null,
       "layout": "IPY_MODEL_1519462c66de4c6981f4b9a2d25ce557",
       "placeholder": "​",
       "style": "IPY_MODEL_43ecee7e60ca4ffa9ffd9332f1d69d65",
       "value": " 1/1 [04:02&lt;00:00, 242.07s/it]"
      }
     },
     "9b120d5288144de1a68df92a3437ee3d": {
      "model_module": "@jupyter-widgets/controls",
      "model_module_version": "1.5.0",
      "model_name": "FloatProgressModel",
      "state": {
       "_dom_classes": [],
       "_model_module": "@jupyter-widgets/controls",
       "_model_module_version": "1.5.0",
       "_model_name": "FloatProgressModel",
       "_view_count": null,
       "_view_module": "@jupyter-widgets/controls",
       "_view_module_version": "1.5.0",
       "_view_name": "ProgressView",
       "bar_style": "success",
       "description": "",
       "description_tooltip": null,
       "layout": "IPY_MODEL_b487a3f824d147948523b983fe4e5f46",
       "max": 1.0,
       "min": 0.0,
       "orientation": "horizontal",
       "style": "IPY_MODEL_4c0961c4f9a045aab5365832841ed0f8",
       "value": 1.0
      }
     },
     "b15b1181b0bb441d88dda966069e2512": {
      "model_module": "@jupyter-widgets/controls",
      "model_module_version": "1.5.0",
      "model_name": "HBoxModel",
      "state": {
       "_dom_classes": [],
       "_model_module": "@jupyter-widgets/controls",
       "_model_module_version": "1.5.0",
       "_model_name": "HBoxModel",
       "_view_count": null,
       "_view_module": "@jupyter-widgets/controls",
       "_view_module_version": "1.5.0",
       "_view_name": "HBoxView",
       "box_style": "",
       "children": [
        "IPY_MODEL_32ddeaf30b964a5b86f5bf97c985f9a3",
        "IPY_MODEL_9b120d5288144de1a68df92a3437ee3d",
        "IPY_MODEL_580c118a34c946a2853cd05b64899515"
       ],
       "layout": "IPY_MODEL_003a2dacacf0490ea03ac7055e47b869"
      }
     },
     "b487a3f824d147948523b983fe4e5f46": {
      "model_module": "@jupyter-widgets/base",
      "model_module_version": "1.2.0",
      "model_name": "LayoutModel",
      "state": {
       "_model_module": "@jupyter-widgets/base",
       "_model_module_version": "1.2.0",
       "_model_name": "LayoutModel",
       "_view_count": null,
       "_view_module": "@jupyter-widgets/base",
       "_view_module_version": "1.2.0",
       "_view_name": "LayoutView",
       "align_content": null,
       "align_items": null,
       "align_self": null,
       "border": null,
       "bottom": null,
       "display": null,
       "flex": null,
       "flex_flow": null,
       "grid_area": null,
       "grid_auto_columns": null,
       "grid_auto_flow": null,
       "grid_auto_rows": null,
       "grid_column": null,
       "grid_gap": null,
       "grid_row": null,
       "grid_template_areas": null,
       "grid_template_columns": null,
       "grid_template_rows": null,
       "height": null,
       "justify_content": null,
       "justify_items": null,
       "left": null,
       "margin": null,
       "max_height": null,
       "max_width": null,
       "min_height": null,
       "min_width": null,
       "object_fit": null,
       "object_position": null,
       "order": null,
       "overflow": null,
       "overflow_x": null,
       "overflow_y": null,
       "padding": null,
       "right": null,
       "top": null,
       "visibility": null,
       "width": null
      }
     }
    },
    "version_major": 2,
    "version_minor": 0
   }
  }
 },
 "nbformat": 4,
 "nbformat_minor": 5
}
